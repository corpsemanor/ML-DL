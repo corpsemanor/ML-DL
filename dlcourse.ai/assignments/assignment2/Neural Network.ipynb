{
 "cells": [
  {
   "cell_type": "markdown",
   "metadata": {},
   "source": [
    "# Задание 2.1 - Нейронные сети\n",
    "\n",
    "В этом задании вы реализуете и натренируете настоящую нейроную сеть своими руками!\n",
    "\n",
    "В некотором смысле это будет расширением прошлого задания - нам нужно просто составить несколько линейных классификаторов вместе!\n",
    "\n",
    "<img src=\"https://i.redd.it/n9fgba8b0qr01.png\" alt=\"Stack_more_layers\" width=\"400px\"/>"
   ]
  },
  {
   "cell_type": "code",
   "execution_count": 1,
   "metadata": {},
   "outputs": [],
   "source": [
    "import numpy as np\n",
    "import matplotlib.pyplot as plt\n",
    "\n",
    "%matplotlib inline\n",
    "\n",
    "%load_ext autoreload\n",
    "%autoreload 2"
   ]
  },
  {
   "cell_type": "code",
   "execution_count": 2,
   "metadata": {},
   "outputs": [],
   "source": [
    "from dataset import load_svhn, random_split_train_val\n",
    "from gradient_check import check_layer_gradient, check_layer_param_gradient, check_model_gradient\n",
    "from layers import FullyConnectedLayer, ReLULayer\n",
    "from model import TwoLayerNet\n",
    "from trainer import Trainer, Dataset\n",
    "from optim import SGD, MomentumSGD\n",
    "from metrics import multiclass_accuracy"
   ]
  },
  {
   "cell_type": "markdown",
   "metadata": {},
   "source": [
    "# Загружаем данные\n",
    "\n",
    "И разделяем их на training и validation."
   ]
  },
  {
   "cell_type": "code",
   "execution_count": 3,
   "metadata": {},
   "outputs": [],
   "source": [
    "def prepare_for_neural_network(train_X, test_X):\n",
    "    train_flat = train_X.reshape(train_X.shape[0], -1).astype(np.float64) / 255.0\n",
    "    test_flat = test_X.reshape(test_X.shape[0], -1).astype(np.float64) / 255.0\n",
    "    \n",
    "    # Subtract mean\n",
    "    mean_image = np.mean(train_flat, axis = 0)\n",
    "    train_flat -= mean_image\n",
    "    test_flat -= mean_image\n",
    "    \n",
    "    return train_flat, test_flat\n",
    "    \n",
    "train_X, train_y, test_X, test_y = load_svhn(\"data\", max_train=10000, max_test=1000)    \n",
    "train_X, test_X = prepare_for_neural_network(train_X, test_X)\n",
    "# Split train into train and val\n",
    "train_X, train_y, val_X, val_y = random_split_train_val(train_X, train_y, num_val = 1000)"
   ]
  },
  {
   "cell_type": "markdown",
   "metadata": {},
   "source": [
    "# Как всегда, начинаем с кирпичиков\n",
    "\n",
    "Мы будем реализовывать необходимые нам слои по очереди. Каждый слой должен реализовать:\n",
    "- прямой проход (forward pass), который генерирует выход слоя по входу и запоминает необходимые данные\n",
    "- обратный проход (backward pass), который получает градиент по выходу слоя и вычисляет градиент по входу и по параметрам\n",
    "\n",
    "Начнем с ReLU, у которого параметров нет."
   ]
  },
  {
   "cell_type": "code",
   "execution_count": 8,
   "metadata": {},
   "outputs": [
    {
     "name": "stdout",
     "output_type": "stream",
     "text": [
      "Gradient check passed!\n"
     ]
    }
   ],
   "source": [
    "# TODO: Implement ReLULayer layer in layers.py\n",
    "# Note: you'll need to copy implementation of the gradient_check function from the previous assignment\n",
    "\n",
    "X = np.array([[1,-2,3],\n",
    "              [-1, 2, 0.1]\n",
    "              ])\n",
    "\n",
    "assert check_layer_gradient(ReLULayer(), X)"
   ]
  },
  {
   "cell_type": "markdown",
   "metadata": {},
   "source": [
    "А теперь реализуем полносвязный слой (fully connected layer), у которого будет два массива параметров: W (weights) и B (bias).\n",
    "\n",
    "Все параметры наши слои будут использовать для параметров специальный класс `Param`, в котором будут храниться значения параметров и градиенты этих параметров, вычисляемые во время обратного прохода.\n",
    "\n",
    "Это даст возможность аккумулировать (суммировать) градиенты из разных частей функции потерь, например, из cross-entropy loss и regularization loss."
   ]
  },
  {
   "cell_type": "code",
   "execution_count": 9,
   "metadata": {},
   "outputs": [
    {
     "name": "stdout",
     "output_type": "stream",
     "text": [
      "Gradient check passed!\n",
      "Gradient check passed!\n",
      "Gradient check passed!\n"
     ]
    }
   ],
   "source": [
    "# TODO: Implement FullyConnected layer forward and backward methods\n",
    "assert check_layer_gradient(FullyConnectedLayer(3, 4), X)\n",
    "# TODO: Implement storing gradients for W and B\n",
    "assert check_layer_param_gradient(FullyConnectedLayer(3, 4), X, 'W')\n",
    "assert check_layer_param_gradient(FullyConnectedLayer(3, 4), X, 'B')"
   ]
  },
  {
   "cell_type": "markdown",
   "metadata": {},
   "source": [
    "## Создаем нейронную сеть\n",
    "\n",
    "Теперь мы реализуем простейшую нейронную сеть с двумя полносвязным слоями и нелинейностью ReLU. Реализуйте функцию `compute_loss_and_gradients`, она должна запустить прямой и обратный проход через оба слоя для вычисления градиентов.\n",
    "\n",
    "Не забудьте реализовать очистку градиентов в начале функции."
   ]
  },
  {
   "cell_type": "code",
   "execution_count": 10,
   "metadata": {},
   "outputs": [
    {
     "name": "stdout",
     "output_type": "stream",
     "text": [
      "Checking gradient for W1\n",
      "Gradient check passed!\n",
      "Checking gradient for B1\n",
      "Gradient check passed!\n",
      "Checking gradient for W2\n",
      "Gradient check passed!\n",
      "Checking gradient for B2\n",
      "Gradient check passed!\n"
     ]
    },
    {
     "data": {
      "text/plain": [
       "True"
      ]
     },
     "execution_count": 10,
     "metadata": {},
     "output_type": "execute_result"
    }
   ],
   "source": [
    "# TODO: In model.py, implement compute_loss_and_gradients function\n",
    "model = TwoLayerNet(n_input = train_X.shape[1], n_output = 10, hidden_layer_size = 3, reg = 0)\n",
    "loss = model.compute_loss_and_gradients(train_X[:2], train_y[:2])\n",
    "\n",
    "# TODO Now implement backward pass and aggregate all of the params\n",
    "check_model_gradient(model, train_X[:2], train_y[:2])"
   ]
  },
  {
   "cell_type": "markdown",
   "metadata": {},
   "source": [
    "Теперь добавьте к модели регуляризацию - она должна прибавляться к loss и делать свой вклад в градиенты."
   ]
  },
  {
   "cell_type": "code",
   "execution_count": 11,
   "metadata": {},
   "outputs": [
    {
     "name": "stdout",
     "output_type": "stream",
     "text": [
      "Checking gradient for W1\n",
      "Gradient check passed!\n",
      "Checking gradient for B1\n",
      "Gradient check passed!\n",
      "Checking gradient for W2\n",
      "Gradient check passed!\n",
      "Checking gradient for B2\n",
      "Gradient check passed!\n"
     ]
    },
    {
     "data": {
      "text/plain": [
       "True"
      ]
     },
     "execution_count": 11,
     "metadata": {},
     "output_type": "execute_result"
    }
   ],
   "source": [
    "# TODO Now implement l2 regularization in the forward and backward pass\n",
    "model_with_reg = TwoLayerNet(n_input = train_X.shape[1], n_output = 10, hidden_layer_size = 3, reg = 1e1)\n",
    "loss_with_reg = model_with_reg.compute_loss_and_gradients(train_X[:2], train_y[:2])\n",
    "assert loss_with_reg > loss and not np.isclose(loss_with_reg, loss), \\\n",
    "    \"Loss with regularization (%2.4f) should be higher than without it (%2.4f)!\" % (loss, loss_with_reg)\n",
    "\n",
    "check_model_gradient(model_with_reg, train_X[:2], train_y[:2])"
   ]
  },
  {
   "cell_type": "markdown",
   "metadata": {},
   "source": [
    "Также реализуем функцию предсказания (вычисления значения) модели на новых данных.\n",
    "\n",
    "Какое значение точности мы ожидаем увидеть до начала тренировки?"
   ]
  },
  {
   "cell_type": "code",
   "execution_count": 13,
   "metadata": {},
   "outputs": [
    {
     "data": {
      "text/plain": [
       "np.float64(0.1)"
      ]
     },
     "execution_count": 13,
     "metadata": {},
     "output_type": "execute_result"
    }
   ],
   "source": [
    "# Finally, implement predict function!\n",
    "\n",
    "# TODO: Implement predict function\n",
    "# What would be the value we expect?\n",
    "multiclass_accuracy(model_with_reg.predict(train_X[:30]), train_y[:30]) "
   ]
  },
  {
   "cell_type": "markdown",
   "metadata": {},
   "source": [
    "# Допишем код для процесса тренировки\n",
    "\n",
    "Если все реализовано корректно, значение функции ошибки должно уменьшаться с каждой эпохой, пусть и медленно. Не беспокойтесь пока про validation accuracy."
   ]
  },
  {
   "cell_type": "code",
   "execution_count": 14,
   "metadata": {},
   "outputs": [
    {
     "name": "stdout",
     "output_type": "stream",
     "text": [
      "Epoch: 0 Loss: 2.302215, Train accuracy: 0.196667, val accuracy: 0.206000\n",
      "Epoch: 1 Loss: 2.303029, Train accuracy: 0.196667, val accuracy: 0.206000\n",
      "Epoch: 2 Loss: 2.302548, Train accuracy: 0.148222, val accuracy: 0.140000\n",
      "Epoch: 3 Loss: 2.303268, Train accuracy: 0.196667, val accuracy: 0.206000\n",
      "Epoch: 4 Loss: 2.301629, Train accuracy: 0.196667, val accuracy: 0.206000\n",
      "Epoch: 5 Loss: 2.301058, Train accuracy: 0.196667, val accuracy: 0.206000\n",
      "Epoch: 6 Loss: 2.302831, Train accuracy: 0.196667, val accuracy: 0.206000\n",
      "Epoch: 7 Loss: 2.301638, Train accuracy: 0.196667, val accuracy: 0.206000\n",
      "Epoch: 8 Loss: 2.302170, Train accuracy: 0.196667, val accuracy: 0.206000\n",
      "Epoch: 9 Loss: 2.302117, Train accuracy: 0.196667, val accuracy: 0.206000\n",
      "Epoch: 10 Loss: 2.302455, Train accuracy: 0.196667, val accuracy: 0.206000\n",
      "Epoch: 11 Loss: 2.302807, Train accuracy: 0.196667, val accuracy: 0.206000\n",
      "Epoch: 12 Loss: 2.302832, Train accuracy: 0.196667, val accuracy: 0.206000\n",
      "Epoch: 13 Loss: 2.302390, Train accuracy: 0.196667, val accuracy: 0.206000\n",
      "Epoch: 14 Loss: 2.303278, Train accuracy: 0.196667, val accuracy: 0.206000\n",
      "Epoch: 15 Loss: 2.301772, Train accuracy: 0.196667, val accuracy: 0.206000\n",
      "Epoch: 16 Loss: 2.302333, Train accuracy: 0.196667, val accuracy: 0.206000\n",
      "Epoch: 17 Loss: 2.302433, Train accuracy: 0.148222, val accuracy: 0.140000\n",
      "Epoch: 18 Loss: 2.301941, Train accuracy: 0.196667, val accuracy: 0.206000\n",
      "Epoch: 19 Loss: 2.302173, Train accuracy: 0.196667, val accuracy: 0.206000\n"
     ]
    }
   ],
   "source": [
    "model = TwoLayerNet(n_input = train_X.shape[1], n_output = 10, hidden_layer_size = 100, reg = 1e1)\n",
    "dataset = Dataset(train_X, train_y, val_X, val_y)\n",
    "trainer = Trainer(model, dataset, SGD(), learning_rate = 1e-2)\n",
    "\n",
    "# TODO Implement missing pieces in Trainer.fit function\n",
    "# You should expect loss to go down every epoch, even if it's slow\n",
    "loss_history, train_history, val_history = trainer.fit()"
   ]
  },
  {
   "cell_type": "code",
   "execution_count": 15,
   "metadata": {},
   "outputs": [
    {
     "data": {
      "text/plain": [
       "[<matplotlib.lines.Line2D at 0x242c63deff0>]"
      ]
     },
     "execution_count": 15,
     "metadata": {},
     "output_type": "execute_result"
    },
    {
     "data": {
      "image/png": "[encoded data removed]",
      "text/plain": [
       "<Figure size 640x480 with 1 Axes>"
      ]
     },
     "metadata": {},
     "output_type": "display_data"
    }
   ],
   "source": [
    "plt.plot(train_history)\n",
    "plt.plot(val_history)"
   ]
  },
  {
   "cell_type": "markdown",
   "metadata": {},
   "source": [
    "# Улучшаем процесс тренировки\n",
    "\n",
    "Мы реализуем несколько ключевых оптимизаций, необходимых для тренировки современных нейросетей."
   ]
  },
  {
   "cell_type": "markdown",
   "metadata": {},
   "source": [
    "## Уменьшение скорости обучения (learning rate decay)\n",
    "\n",
    "Одна из необходимых оптимизаций во время тренировки нейронных сетей - постепенное уменьшение скорости обучения по мере тренировки.\n",
    "\n",
    "Один из стандартных методов - уменьшение скорости обучения (learning rate) каждые N эпох на коэффициент d (часто называемый decay). Значения N и d, как всегда, являются гиперпараметрами и должны подбираться на основе эффективности на проверочных данных (validation data). \n",
    "\n",
    "В нашем случае N будет равным 1."
   ]
  },
  {
   "cell_type": "code",
   "execution_count": 16,
   "metadata": {},
   "outputs": [
    {
     "name": "stdout",
     "output_type": "stream",
     "text": [
      "Epoch: 0 Loss: 2.275985, Train accuracy: 0.196667, val accuracy: 0.206000\n",
      "Epoch: 1 Loss: 2.347515, Train accuracy: 0.196667, val accuracy: 0.206000\n",
      "Epoch: 2 Loss: 2.264348, Train accuracy: 0.196667, val accuracy: 0.206000\n",
      "Epoch: 3 Loss: 2.287890, Train accuracy: 0.196667, val accuracy: 0.206000\n",
      "Epoch: 4 Loss: 2.253264, Train accuracy: 0.196667, val accuracy: 0.206000\n",
      "Epoch: 5 Loss: 2.265011, Train accuracy: 0.196667, val accuracy: 0.206000\n",
      "Epoch: 6 Loss: 2.212698, Train accuracy: 0.196667, val accuracy: 0.206000\n",
      "Epoch: 7 Loss: 2.320777, Train accuracy: 0.196667, val accuracy: 0.206000\n",
      "Epoch: 8 Loss: 2.302624, Train accuracy: 0.196667, val accuracy: 0.206000\n",
      "Epoch: 9 Loss: 2.311032, Train accuracy: 0.196667, val accuracy: 0.206000\n",
      "Epoch: 10 Loss: 2.234316, Train accuracy: 0.196667, val accuracy: 0.206000\n",
      "Epoch: 11 Loss: 2.283390, Train accuracy: 0.196667, val accuracy: 0.206000\n",
      "Epoch: 12 Loss: 2.353994, Train accuracy: 0.196667, val accuracy: 0.206000\n",
      "Epoch: 13 Loss: 2.217454, Train accuracy: 0.196667, val accuracy: 0.206000\n",
      "Epoch: 14 Loss: 2.378711, Train accuracy: 0.196667, val accuracy: 0.206000\n",
      "Epoch: 15 Loss: 2.256101, Train accuracy: 0.196667, val accuracy: 0.206000\n",
      "Epoch: 16 Loss: 2.309860, Train accuracy: 0.196667, val accuracy: 0.206000\n",
      "Epoch: 17 Loss: 2.264767, Train accuracy: 0.196667, val accuracy: 0.206000\n",
      "Epoch: 18 Loss: 2.276485, Train accuracy: 0.196667, val accuracy: 0.206000\n",
      "Epoch: 19 Loss: 2.274562, Train accuracy: 0.196667, val accuracy: 0.206000\n"
     ]
    }
   ],
   "source": [
    "# TODO Implement learning rate decay inside Trainer.fit method\n",
    "# Decay should happen once per epoch\n",
    "\n",
    "model = TwoLayerNet(n_input = train_X.shape[1], n_output = 10, hidden_layer_size = 100, reg = 1e-1)\n",
    "dataset = Dataset(train_X, train_y, val_X, val_y)\n",
    "trainer = Trainer(model, dataset, SGD(), learning_rate_decay=0.99)\n",
    "\n",
    "initial_learning_rate = trainer.learning_rate\n",
    "loss_history, train_history, val_history = trainer.fit()\n",
    "\n",
    "assert trainer.learning_rate < initial_learning_rate, \"Learning rate should've been reduced\"\n",
    "assert trainer.learning_rate > 0.5*initial_learning_rate, \"Learning rate shouldn'tve been reduced that much!\""
   ]
  },
  {
   "cell_type": "markdown",
   "metadata": {},
   "source": [
    "# Накопление импульса (Momentum SGD)\n",
    "\n",
    "Другой большой класс оптимизаций - использование более эффективных методов градиентного спуска. Мы реализуем один из них - накопление импульса (Momentum SGD).\n",
    "\n",
    "Этот метод хранит скорость движения, использует градиент для ее изменения на каждом шаге, и изменяет веса пропорционально значению скорости.\n",
    "(Физическая аналогия: Вместо скорости градиенты теперь будут задавать ускорение, но будет присутствовать сила трения.)\n",
    "\n",
    "```\n",
    "velocity = momentum * velocity - learning_rate * gradient \n",
    "w = w + velocity\n",
    "```\n",
    "\n",
    "`momentum` здесь коэффициент затухания, который тоже является гиперпараметром (к счастью, для него часто есть хорошее значение по умолчанию, типичный диапазон -- 0.8-0.99).\n",
    "\n",
    "Несколько полезных ссылок, где метод разбирается более подробно:  \n",
    "http://cs231n.github.io/neural-networks-3/#sgd  \n",
    "https://distill.pub/2017/momentum/"
   ]
  },
  {
   "cell_type": "code",
   "execution_count": 17,
   "metadata": {},
   "outputs": [
    {
     "name": "stdout",
     "output_type": "stream",
     "text": [
      "Epoch: 0 Loss: 2.322051, Train accuracy: 0.196667, val accuracy: 0.206000\n",
      "Epoch: 1 Loss: 2.308033, Train accuracy: 0.196667, val accuracy: 0.206000\n",
      "Epoch: 2 Loss: 2.317549, Train accuracy: 0.196667, val accuracy: 0.206000\n",
      "Epoch: 3 Loss: 2.262630, Train accuracy: 0.196667, val accuracy: 0.206000\n",
      "Epoch: 4 Loss: 2.270323, Train accuracy: 0.196667, val accuracy: 0.206000\n",
      "Epoch: 5 Loss: 2.308261, Train accuracy: 0.196667, val accuracy: 0.206000\n",
      "Epoch: 6 Loss: 2.264990, Train accuracy: 0.196667, val accuracy: 0.206000\n",
      "Epoch: 7 Loss: 2.278636, Train accuracy: 0.196667, val accuracy: 0.206000\n",
      "Epoch: 8 Loss: 2.267083, Train accuracy: 0.196667, val accuracy: 0.206000\n",
      "Epoch: 9 Loss: 2.279901, Train accuracy: 0.196667, val accuracy: 0.206000\n",
      "Epoch: 10 Loss: 2.276510, Train accuracy: 0.196667, val accuracy: 0.206000\n",
      "Epoch: 11 Loss: 2.314133, Train accuracy: 0.196667, val accuracy: 0.206000\n",
      "Epoch: 12 Loss: 2.256404, Train accuracy: 0.196667, val accuracy: 0.206000\n",
      "Epoch: 13 Loss: 2.295822, Train accuracy: 0.196667, val accuracy: 0.206000\n",
      "Epoch: 14 Loss: 2.290051, Train accuracy: 0.196667, val accuracy: 0.206000\n",
      "Epoch: 15 Loss: 2.278750, Train accuracy: 0.196667, val accuracy: 0.206000\n",
      "Epoch: 16 Loss: 2.280567, Train accuracy: 0.196667, val accuracy: 0.206000\n",
      "Epoch: 17 Loss: 2.255044, Train accuracy: 0.196667, val accuracy: 0.206000\n",
      "Epoch: 18 Loss: 2.240982, Train accuracy: 0.196667, val accuracy: 0.206000\n",
      "Epoch: 19 Loss: 2.315651, Train accuracy: 0.196667, val accuracy: 0.206000\n"
     ]
    }
   ],
   "source": [
    "# TODO: Implement MomentumSGD.update function in optim.py\n",
    "\n",
    "model = TwoLayerNet(n_input = train_X.shape[1], n_output = 10, hidden_layer_size = 100, reg = 1e-1)\n",
    "dataset = Dataset(train_X, train_y, val_X, val_y)\n",
    "trainer = Trainer(model, dataset, MomentumSGD(), learning_rate=1e-4, learning_rate_decay=0.99)\n",
    "\n",
    "# You should see even better results than before!\n",
    "loss_history, train_history, val_history = trainer.fit()"
   ]
  },
  {
   "cell_type": "markdown",
   "metadata": {},
   "source": [
    "# Ну что, давайте уже тренировать сеть!"
   ]
  },
  {
   "cell_type": "markdown",
   "metadata": {},
   "source": [
    "## Последний тест - переобучимся (overfit) на маленьком наборе данных\n",
    "\n",
    "Хороший способ проверить, все ли реализовано корректно - переобучить сеть на маленьком наборе данных.  \n",
    "Наша модель обладает достаточной мощностью, чтобы приблизить маленький набор данных идеально, поэтому мы ожидаем, что на нем мы быстро дойдем до 100% точности на тренировочном наборе. \n",
    "\n",
    "Если этого не происходит, то где-то была допущена ошибка!"
   ]
  },
  {
   "cell_type": "code",
   "execution_count": 18,
   "metadata": {},
   "outputs": [
    {
     "name": "stdout",
     "output_type": "stream",
     "text": [
      "Epoch: 0 Loss: 2.351801, Train accuracy: 0.200000, val accuracy: 0.133333\n",
      "Epoch: 20 Loss: 2.022291, Train accuracy: 0.400000, val accuracy: 0.000000\n",
      "Epoch: 40 Loss: 2.474042, Train accuracy: 0.666667, val accuracy: 0.066667\n",
      "Epoch: 60 Loss: 2.022564, Train accuracy: 0.733333, val accuracy: 0.066667\n",
      "Epoch: 80 Loss: 1.602167, Train accuracy: 0.866667, val accuracy: 0.066667\n",
      "Epoch: 100 Loss: 1.887250, Train accuracy: 0.933333, val accuracy: 0.066667\n",
      "Epoch: 120 Loss: 1.239065, Train accuracy: 0.933333, val accuracy: 0.000000\n",
      "Epoch: 140 Loss: 1.445285, Train accuracy: 1.000000, val accuracy: 0.000000\n"
     ]
    }
   ],
   "source": [
    "data_size = 15\n",
    "model = TwoLayerNet(n_input = train_X.shape[1], n_output = 10, hidden_layer_size = 100, reg = 1e-1)\n",
    "dataset = Dataset(train_X[:data_size], train_y[:data_size], val_X[:data_size], val_y[:data_size])\n",
    "trainer = Trainer(model, dataset, SGD(), learning_rate=1e-1, num_epochs=150, batch_size=5)\n",
    "\n",
    "# You should expect this to reach 1.0 training accuracy \n",
    "loss_history, train_history, val_history = trainer.fit()"
   ]
  },
  {
   "cell_type": "markdown",
   "metadata": {},
   "source": [
    "Теперь найдем гипепараметры, для которых этот процесс сходится быстрее.\n",
    "Если все реализовано корректно, то существуют параметры, при которых процесс сходится в **20** эпох или еще быстрее.\n",
    "Найдите их!"
   ]
  },
  {
   "cell_type": "code",
   "execution_count": 19,
   "metadata": {},
   "outputs": [
    {
     "name": "stdout",
     "output_type": "stream",
     "text": [
      "Epoch: 0 Loss: 2.331042, Train accuracy: 0.200000, val accuracy: 0.133333\n",
      "Epoch: 1 Loss: 2.319385, Train accuracy: 0.200000, val accuracy: 0.133333\n",
      "Epoch: 2 Loss: 2.283704, Train accuracy: 0.200000, val accuracy: 0.133333\n",
      "Epoch: 3 Loss: 2.309925, Train accuracy: 0.266667, val accuracy: 0.000000\n",
      "Epoch: 4 Loss: 2.285989, Train accuracy: 0.266667, val accuracy: 0.000000\n",
      "Epoch: 5 Loss: 2.352220, Train accuracy: 0.266667, val accuracy: 0.000000\n",
      "Epoch: 6 Loss: 2.261306, Train accuracy: 0.266667, val accuracy: 0.000000\n",
      "Epoch: 7 Loss: 2.287292, Train accuracy: 0.400000, val accuracy: 0.000000\n",
      "Epoch: 8 Loss: 2.315104, Train accuracy: 0.400000, val accuracy: 0.000000\n",
      "Epoch: 9 Loss: 2.268513, Train accuracy: 0.400000, val accuracy: 0.000000\n",
      "Epoch: 10 Loss: 2.242892, Train accuracy: 0.400000, val accuracy: 0.000000\n",
      "Epoch: 11 Loss: 2.047102, Train accuracy: 0.400000, val accuracy: 0.000000\n",
      "Epoch: 12 Loss: 1.901234, Train accuracy: 0.333333, val accuracy: 0.000000\n",
      "Epoch: 13 Loss: 1.948076, Train accuracy: 0.333333, val accuracy: 0.000000\n",
      "Epoch: 14 Loss: 1.740618, Train accuracy: 0.333333, val accuracy: 0.000000\n",
      "Epoch: 15 Loss: 1.914006, Train accuracy: 0.333333, val accuracy: 0.000000\n",
      "Epoch: 16 Loss: 1.841368, Train accuracy: 0.400000, val accuracy: 0.000000\n",
      "Epoch: 17 Loss: 1.927281, Train accuracy: 0.400000, val accuracy: 0.000000\n",
      "Epoch: 18 Loss: 2.294955, Train accuracy: 0.400000, val accuracy: 0.000000\n",
      "Epoch: 19 Loss: 1.815748, Train accuracy: 0.400000, val accuracy: 0.000000\n"
     ]
    }
   ],
   "source": [
    "# Now, tweak some hyper parameters and make it train to 1.0 accuracy in 20 epochs or less\n",
    "\n",
    "model = TwoLayerNet(n_input = train_X.shape[1], n_output = 10, hidden_layer_size = 100, reg = 1e-1)\n",
    "dataset = Dataset(train_X[:data_size], train_y[:data_size], val_X[:data_size], val_y[:data_size])\n",
    "# TODO: Change any hyperparamers or optimizators to reach training accuracy in 20 epochs\n",
    "trainer = Trainer(model, dataset, SGD(), learning_rate=1e-1, num_epochs=20, batch_size=5)\n",
    "\n",
    "loss_history, train_history, val_history = trainer.fit()"
   ]
  },
  {
   "cell_type": "markdown",
   "metadata": {},
   "source": [
    "# Итак, основное мероприятие!\n",
    "\n",
    "Натренируйте лучшую нейросеть! Можно добавлять и изменять параметры, менять количество нейронов в слоях сети и как угодно экспериментировать. \n",
    "\n",
    "Добейтесь точности лучше **60%** на validation set."
   ]
  },
  {
   "cell_type": "code",
   "execution_count": 20,
   "metadata": {
    "scrolled": true
   },
   "outputs": [
    {
     "name": "stdout",
     "output_type": "stream",
     "text": [
      "\n",
      "Cycle 1...\n",
      "Epoch: 0 Loss: 2.285146, Train accuracy: 0.196667, val accuracy: 0.206000\n",
      "Epoch: 1 Loss: 2.255187, Train accuracy: 0.196667, val accuracy: 0.206000\n",
      "Epoch: 2 Loss: 2.231036, Train accuracy: 0.196667, val accuracy: 0.206000\n",
      "Epoch: 3 Loss: 2.324803, Train accuracy: 0.196667, val accuracy: 0.206000\n",
      "Epoch: 4 Loss: 2.229246, Train accuracy: 0.196667, val accuracy: 0.206000\n",
      "Epoch: 5 Loss: 2.295017, Train accuracy: 0.196667, val accuracy: 0.206000\n",
      "Epoch: 6 Loss: 2.158684, Train accuracy: 0.196667, val accuracy: 0.206000\n",
      "Epoch: 7 Loss: 2.162698, Train accuracy: 0.196667, val accuracy: 0.206000\n",
      "Epoch: 8 Loss: 2.052703, Train accuracy: 0.197778, val accuracy: 0.207000\n",
      "Epoch: 9 Loss: 2.242614, Train accuracy: 0.214111, val accuracy: 0.226000\n",
      "\n",
      "Cycle 2...\n",
      "Epoch: 0 Loss: 2.218932, Train accuracy: 0.196667, val accuracy: 0.206000\n",
      "Epoch: 1 Loss: 2.146677, Train accuracy: 0.207333, val accuracy: 0.211000\n",
      "Epoch: 2 Loss: 1.946493, Train accuracy: 0.283111, val accuracy: 0.288000\n",
      "Epoch: 3 Loss: 1.819483, Train accuracy: 0.399111, val accuracy: 0.393000\n",
      "Epoch: 4 Loss: 1.707543, Train accuracy: 0.486667, val accuracy: 0.494000\n",
      "Epoch: 5 Loss: 1.195150, Train accuracy: 0.572556, val accuracy: 0.561000\n",
      "Epoch: 6 Loss: 1.467100, Train accuracy: 0.607000, val accuracy: 0.599000\n",
      "Epoch: 7 Loss: 1.142522, Train accuracy: 0.639444, val accuracy: 0.631000\n",
      "Epoch: 8 Loss: 0.935562, Train accuracy: 0.668000, val accuracy: 0.658000\n",
      "Epoch: 9 Loss: 0.757628, Train accuracy: 0.662333, val accuracy: 0.649000\n",
      "\n",
      "Cycle 3...\n",
      "Epoch: 0 Loss: 2.300521, Train accuracy: 0.196667, val accuracy: 0.206000\n",
      "Epoch: 1 Loss: 2.294229, Train accuracy: 0.196667, val accuracy: 0.206000\n",
      "Epoch: 2 Loss: 2.294670, Train accuracy: 0.196667, val accuracy: 0.206000\n",
      "Epoch: 3 Loss: 2.295898, Train accuracy: 0.196667, val accuracy: 0.206000\n",
      "Epoch: 4 Loss: 2.304947, Train accuracy: 0.196667, val accuracy: 0.206000\n",
      "Epoch: 5 Loss: 2.300849, Train accuracy: 0.196667, val accuracy: 0.206000\n",
      "Epoch: 6 Loss: 2.283834, Train accuracy: 0.196667, val accuracy: 0.206000\n",
      "Epoch: 7 Loss: 2.291152, Train accuracy: 0.196667, val accuracy: 0.206000\n",
      "Epoch: 8 Loss: 2.299248, Train accuracy: 0.196667, val accuracy: 0.206000\n",
      "Epoch: 9 Loss: 2.273997, Train accuracy: 0.196667, val accuracy: 0.206000\n",
      "\n",
      "Cycle 4...\n",
      "Epoch: 0 Loss: 2.298323, Train accuracy: 0.196667, val accuracy: 0.206000\n",
      "Epoch: 1 Loss: 2.297456, Train accuracy: 0.196667, val accuracy: 0.206000\n",
      "Epoch: 2 Loss: 2.296320, Train accuracy: 0.196667, val accuracy: 0.206000\n",
      "Epoch: 3 Loss: 2.289671, Train accuracy: 0.196667, val accuracy: 0.206000\n",
      "Epoch: 4 Loss: 2.291465, Train accuracy: 0.196667, val accuracy: 0.206000\n",
      "Epoch: 5 Loss: 2.294024, Train accuracy: 0.196667, val accuracy: 0.206000\n",
      "Epoch: 6 Loss: 2.284309, Train accuracy: 0.196667, val accuracy: 0.206000\n",
      "Epoch: 7 Loss: 2.282972, Train accuracy: 0.196667, val accuracy: 0.206000\n",
      "Epoch: 8 Loss: 2.293299, Train accuracy: 0.196667, val accuracy: 0.206000\n",
      "Epoch: 9 Loss: 2.273051, Train accuracy: 0.196667, val accuracy: 0.206000\n",
      "\n",
      "Cycle 5...\n",
      "Epoch: 0 Loss: 2.279361, Train accuracy: 0.196667, val accuracy: 0.206000\n",
      "Epoch: 1 Loss: 2.304623, Train accuracy: 0.196667, val accuracy: 0.206000\n",
      "Epoch: 2 Loss: 2.274054, Train accuracy: 0.196667, val accuracy: 0.206000\n",
      "Epoch: 3 Loss: 2.267209, Train accuracy: 0.196667, val accuracy: 0.206000\n",
      "Epoch: 4 Loss: 2.195851, Train accuracy: 0.196667, val accuracy: 0.206000\n",
      "Epoch: 5 Loss: 2.248631, Train accuracy: 0.196667, val accuracy: 0.206000\n",
      "Epoch: 6 Loss: 2.325557, Train accuracy: 0.196667, val accuracy: 0.206000\n",
      "Epoch: 7 Loss: 2.128500, Train accuracy: 0.196667, val accuracy: 0.206000\n",
      "Epoch: 8 Loss: 2.268440, Train accuracy: 0.196667, val accuracy: 0.206000\n",
      "Epoch: 9 Loss: 2.260836, Train accuracy: 0.196667, val accuracy: 0.206000\n",
      "\n",
      "Cycle 6...\n",
      "Epoch: 0 Loss: 2.302510, Train accuracy: 0.196667, val accuracy: 0.206000\n",
      "Epoch: 1 Loss: 2.299449, Train accuracy: 0.196667, val accuracy: 0.206000\n",
      "Epoch: 2 Loss: 2.297920, Train accuracy: 0.196667, val accuracy: 0.206000\n",
      "Epoch: 3 Loss: 2.296940, Train accuracy: 0.196667, val accuracy: 0.206000\n",
      "Epoch: 4 Loss: 2.298213, Train accuracy: 0.196667, val accuracy: 0.206000\n",
      "Epoch: 5 Loss: 2.298795, Train accuracy: 0.196667, val accuracy: 0.206000\n",
      "Epoch: 6 Loss: 2.298361, Train accuracy: 0.196667, val accuracy: 0.206000\n",
      "Epoch: 7 Loss: 2.298582, Train accuracy: 0.196667, val accuracy: 0.206000\n",
      "Epoch: 8 Loss: 2.294357, Train accuracy: 0.196667, val accuracy: 0.206000\n",
      "Epoch: 9 Loss: 2.291412, Train accuracy: 0.196667, val accuracy: 0.206000\n",
      "\n",
      "Cycle 7...\n",
      "Epoch: 0 Loss: 2.304168, Train accuracy: 0.196222, val accuracy: 0.201000\n",
      "Epoch: 1 Loss: 2.304070, Train accuracy: 0.196667, val accuracy: 0.206000\n",
      "Epoch: 2 Loss: 2.303032, Train accuracy: 0.196667, val accuracy: 0.206000\n",
      "Epoch: 3 Loss: 2.302621, Train accuracy: 0.196667, val accuracy: 0.206000\n",
      "Epoch: 4 Loss: 2.304216, Train accuracy: 0.196667, val accuracy: 0.206000\n",
      "Epoch: 5 Loss: 2.302244, Train accuracy: 0.196667, val accuracy: 0.206000\n",
      "Epoch: 6 Loss: 2.303600, Train accuracy: 0.196667, val accuracy: 0.206000\n",
      "Epoch: 7 Loss: 2.301757, Train accuracy: 0.196667, val accuracy: 0.206000\n",
      "Epoch: 8 Loss: 2.300982, Train accuracy: 0.196667, val accuracy: 0.206000\n",
      "Epoch: 9 Loss: 2.302173, Train accuracy: 0.196667, val accuracy: 0.206000\n",
      "\n",
      "Cycle 8...\n",
      "Epoch: 0 Loss: 2.270815, Train accuracy: 0.196667, val accuracy: 0.206000\n",
      "Epoch: 1 Loss: 2.273677, Train accuracy: 0.196667, val accuracy: 0.206000\n",
      "Epoch: 2 Loss: 2.238300, Train accuracy: 0.196667, val accuracy: 0.206000\n",
      "Epoch: 3 Loss: 2.270379, Train accuracy: 0.196667, val accuracy: 0.206000\n",
      "Epoch: 4 Loss: 2.252656, Train accuracy: 0.196667, val accuracy: 0.206000\n",
      "Epoch: 5 Loss: 2.203692, Train accuracy: 0.196667, val accuracy: 0.206000\n",
      "Epoch: 6 Loss: 2.303660, Train accuracy: 0.196667, val accuracy: 0.206000\n",
      "Epoch: 7 Loss: 2.262504, Train accuracy: 0.196667, val accuracy: 0.206000\n",
      "Epoch: 8 Loss: 2.211877, Train accuracy: 0.196667, val accuracy: 0.206000\n",
      "Epoch: 9 Loss: 2.199256, Train accuracy: 0.196667, val accuracy: 0.206000\n",
      "\n",
      "Cycle 9...\n",
      "Epoch: 0 Loss: 2.310104, Train accuracy: 0.148222, val accuracy: 0.140000\n",
      "Epoch: 1 Loss: 2.310017, Train accuracy: 0.157667, val accuracy: 0.147000\n",
      "Epoch: 2 Loss: 2.309376, Train accuracy: 0.196667, val accuracy: 0.206000\n",
      "Epoch: 3 Loss: 2.309873, Train accuracy: 0.196667, val accuracy: 0.206000\n",
      "Epoch: 4 Loss: 2.309830, Train accuracy: 0.196667, val accuracy: 0.206000\n",
      "Epoch: 5 Loss: 2.309893, Train accuracy: 0.196667, val accuracy: 0.206000\n",
      "Epoch: 6 Loss: 2.308035, Train accuracy: 0.196667, val accuracy: 0.206000\n",
      "Epoch: 7 Loss: 2.307262, Train accuracy: 0.196667, val accuracy: 0.206000\n",
      "Epoch: 8 Loss: 2.307005, Train accuracy: 0.196667, val accuracy: 0.206000\n",
      "Epoch: 9 Loss: 2.307628, Train accuracy: 0.196667, val accuracy: 0.206000\n",
      "\n",
      "Cycle 10...\n",
      "Epoch: 0 Loss: 2.007871, Train accuracy: 0.237444, val accuracy: 0.240000\n",
      "Epoch: 1 Loss: 1.495757, Train accuracy: 0.426667, val accuracy: 0.414000\n",
      "Epoch: 2 Loss: 1.406154, Train accuracy: 0.548556, val accuracy: 0.530000\n",
      "Epoch: 3 Loss: 1.383397, Train accuracy: 0.627333, val accuracy: 0.611000\n",
      "Epoch: 4 Loss: 0.967214, Train accuracy: 0.674111, val accuracy: 0.644000\n",
      "Epoch: 5 Loss: 0.958225, Train accuracy: 0.713889, val accuracy: 0.664000\n",
      "Epoch: 6 Loss: 0.985720, Train accuracy: 0.717222, val accuracy: 0.665000\n",
      "Epoch: 7 Loss: 1.024261, Train accuracy: 0.691778, val accuracy: 0.655000\n",
      "Epoch: 8 Loss: 1.020964, Train accuracy: 0.769556, val accuracy: 0.705000\n",
      "Epoch: 9 Loss: 0.835335, Train accuracy: 0.753667, val accuracy: 0.693000\n",
      "\n",
      "Cycle 11...\n",
      "Epoch: 0 Loss: 2.218879, Train accuracy: 0.196667, val accuracy: 0.206000\n",
      "Epoch: 1 Loss: 2.183505, Train accuracy: 0.196667, val accuracy: 0.206000\n",
      "Epoch: 2 Loss: 2.054762, Train accuracy: 0.272444, val accuracy: 0.277000\n",
      "Epoch: 3 Loss: 1.945267, Train accuracy: 0.384889, val accuracy: 0.369000\n",
      "Epoch: 4 Loss: 1.770122, Train accuracy: 0.458667, val accuracy: 0.467000\n",
      "Epoch: 5 Loss: 1.373361, Train accuracy: 0.542333, val accuracy: 0.538000\n",
      "Epoch: 6 Loss: 0.943408, Train accuracy: 0.599333, val accuracy: 0.594000\n",
      "Epoch: 7 Loss: 1.453235, Train accuracy: 0.630778, val accuracy: 0.611000\n",
      "Epoch: 8 Loss: 1.175006, Train accuracy: 0.626333, val accuracy: 0.638000\n",
      "Epoch: 9 Loss: 1.261374, Train accuracy: 0.641667, val accuracy: 0.629000\n",
      "\n",
      "Cycle 12...\n",
      "Epoch: 0 Loss: 2.227023, Train accuracy: 0.219000, val accuracy: 0.227000\n",
      "Epoch: 1 Loss: 1.854712, Train accuracy: 0.437000, val accuracy: 0.432000\n",
      "Epoch: 2 Loss: 1.365092, Train accuracy: 0.536667, val accuracy: 0.526000\n",
      "Epoch: 3 Loss: 1.106494, Train accuracy: 0.634444, val accuracy: 0.614000\n",
      "Epoch: 4 Loss: 1.699629, Train accuracy: 0.647667, val accuracy: 0.630000\n",
      "Epoch: 5 Loss: 0.656562, Train accuracy: 0.688778, val accuracy: 0.674000\n",
      "Epoch: 6 Loss: 1.215572, Train accuracy: 0.709222, val accuracy: 0.671000\n",
      "Epoch: 7 Loss: 0.770696, Train accuracy: 0.732667, val accuracy: 0.680000\n",
      "Epoch: 8 Loss: 0.846377, Train accuracy: 0.765333, val accuracy: 0.697000\n",
      "Epoch: 9 Loss: 0.907259, Train accuracy: 0.780889, val accuracy: 0.714000\n",
      "\n",
      "Cycle 13...\n",
      "Epoch: 0 Loss: 2.252381, Train accuracy: 0.196667, val accuracy: 0.206000\n",
      "Epoch: 1 Loss: 2.201428, Train accuracy: 0.196667, val accuracy: 0.206000\n",
      "Epoch: 2 Loss: 2.273985, Train accuracy: 0.196667, val accuracy: 0.206000\n",
      "Epoch: 3 Loss: 2.179353, Train accuracy: 0.196667, val accuracy: 0.206000\n",
      "Epoch: 4 Loss: 2.098662, Train accuracy: 0.196667, val accuracy: 0.206000\n",
      "Epoch: 5 Loss: 2.053925, Train accuracy: 0.196667, val accuracy: 0.206000\n",
      "Epoch: 6 Loss: 2.222812, Train accuracy: 0.196667, val accuracy: 0.206000\n",
      "Epoch: 7 Loss: 2.196234, Train accuracy: 0.196667, val accuracy: 0.206000\n",
      "Epoch: 8 Loss: 2.198017, Train accuracy: 0.196667, val accuracy: 0.206000\n",
      "Epoch: 9 Loss: 2.183832, Train accuracy: 0.196667, val accuracy: 0.206000\n",
      "\n",
      "Cycle 14...\n",
      "Epoch: 0 Loss: 2.286003, Train accuracy: 0.196667, val accuracy: 0.206000\n",
      "Epoch: 1 Loss: 2.268845, Train accuracy: 0.196667, val accuracy: 0.206000\n",
      "Epoch: 2 Loss: 2.252900, Train accuracy: 0.196667, val accuracy: 0.206000\n",
      "Epoch: 3 Loss: 2.274516, Train accuracy: 0.196667, val accuracy: 0.206000\n",
      "Epoch: 4 Loss: 2.207032, Train accuracy: 0.196667, val accuracy: 0.206000\n",
      "Epoch: 5 Loss: 2.286700, Train accuracy: 0.196667, val accuracy: 0.206000\n",
      "Epoch: 6 Loss: 2.237145, Train accuracy: 0.196667, val accuracy: 0.206000\n",
      "Epoch: 7 Loss: 2.289686, Train accuracy: 0.196667, val accuracy: 0.206000\n",
      "Epoch: 8 Loss: 2.241639, Train accuracy: 0.196667, val accuracy: 0.206000\n",
      "Epoch: 9 Loss: 2.231805, Train accuracy: 0.196667, val accuracy: 0.206000\n",
      "\n",
      "Cycle 15...\n",
      "Epoch: 0 Loss: 2.298560, Train accuracy: 0.196667, val accuracy: 0.206000\n",
      "Epoch: 1 Loss: 2.296092, Train accuracy: 0.196667, val accuracy: 0.206000\n",
      "Epoch: 2 Loss: 2.297081, Train accuracy: 0.196667, val accuracy: 0.206000\n",
      "Epoch: 3 Loss: 2.275499, Train accuracy: 0.196667, val accuracy: 0.206000\n",
      "Epoch: 4 Loss: 2.299609, Train accuracy: 0.196667, val accuracy: 0.206000\n",
      "Epoch: 5 Loss: 2.287755, Train accuracy: 0.196667, val accuracy: 0.206000\n",
      "Epoch: 6 Loss: 2.281017, Train accuracy: 0.196667, val accuracy: 0.206000\n",
      "Epoch: 7 Loss: 2.282513, Train accuracy: 0.196667, val accuracy: 0.206000\n",
      "Epoch: 8 Loss: 2.283810, Train accuracy: 0.196667, val accuracy: 0.206000\n",
      "Epoch: 9 Loss: 2.279748, Train accuracy: 0.196667, val accuracy: 0.206000\n"
     ]
    }
   ],
   "source": [
    "# Let's train the best one-hidden-layer network we can\n",
    "from random import choice\n",
    "\n",
    "n_iterations = 15\n",
    "num_epochs = 10\n",
    "learning_rates = [1e-4, 1e-3, 1e-2, 1e-1]\n",
    "reg_strength = [1e-6, 1e-4, 1e-2]\n",
    "learning_rate_decay = [0.888, 0.995, 0.999]\n",
    "hidden_layer_size = [64, 128, 256]\n",
    "batch_size = [64]\n",
    "momentums = [0.1, 0.3, 0.5, 0.7, 0.9]\n",
    "\n",
    "best_classifier = None\n",
    "best_val_accuracy = 0\n",
    "best_params = {}\n",
    "\n",
    "loss_history = []\n",
    "train_history = []\n",
    "val_history = []\n",
    "\n",
    "# TODO find the best hyperparameters to train the network\n",
    "# Don't hesitate to add new values to the arrays above, perform experiments, use any tricks you want\n",
    "# You should expect to get to at least 40% of valudation accuracy\n",
    "# Save loss/train/history of the best classifier to the variables above\n",
    "for i in range(0, n_iterations):    \n",
    "    lr = choice(learning_rates)\n",
    "    reg = choice(reg_strength)\n",
    "    lrd = choice(learning_rate_decay)\n",
    "    hs = choice(hidden_layer_size)\n",
    "    bs = choice(batch_size)\n",
    "    momentum = choice(momentums)\n",
    "    \n",
    "    model = TwoLayerNet(n_input=train_X.shape[1], n_output=10,\n",
    "                        hidden_layer_size=hs, reg=reg)\n",
    "    dataset = Dataset(train_X, train_y, val_X, val_y)\n",
    "    trainer = Trainer(model, dataset, MomentumSGD(momentum=momentum), learning_rate=lr,\n",
    "                      learning_rate_decay=lrd, num_epochs=num_epochs, batch_size=bs)\n",
    "    \n",
    "    print()\n",
    "    print (\"Cycle {}...\".format(i+1))\n",
    "    loss_hist, train_hist, val_hist = trainer.fit()\n",
    "    \n",
    "    if val_hist[-1] > best_val_accuracy:\n",
    "        best_val_accuracy = val_hist[-1]\n",
    "        best_classifier = model\n",
    "        \n",
    "        best_params['learning_rate'] = lr\n",
    "        best_params['reg_strength'] = reg\n",
    "        best_params['learning_rate_decay'] = lrd\n",
    "        best_params['hidden_layer_size'] = hs\n",
    "        best_params['batch_size'] = bs\n",
    "        best_params['momentum'] = momentum\n",
    "        \n",
    "        loss_history = loss_hist\n",
    "        train_history = train_hist\n",
    "        val_history = val_hist"
   ]
  },
  {
   "cell_type": "code",
   "execution_count": 21,
   "metadata": {},
   "outputs": [
    {
     "data": {
      "text/plain": [
       "[<matplotlib.lines.Line2D at 0x242c64dc2f0>]"
      ]
     },
     "execution_count": 21,
     "metadata": {},
     "output_type": "execute_result"
    },
    {
     "data": {
      "image/png": "[encoded data removed]",
      "text/plain": [
       "<Figure size 1500x700 with 2 Axes>"
      ]
     },
     "metadata": {},
     "output_type": "display_data"
    }
   ],
   "source": [
    "plt.figure(figsize=(15, 7))\n",
    "plt.subplot(211)\n",
    "plt.title(\"Loss\")\n",
    "plt.plot(loss_history)\n",
    "plt.subplot(212)\n",
    "plt.title(\"Train/validation accuracy\")\n",
    "plt.plot(train_history)\n",
    "plt.plot(val_history)"
   ]
  },
  {
   "cell_type": "markdown",
   "metadata": {},
   "source": [
    "# Как обычно, посмотрим, как наша лучшая модель работает на тестовых данных"
   ]
  },
  {
   "cell_type": "code",
   "execution_count": 22,
   "metadata": {},
   "outputs": [
    {
     "name": "stdout",
     "output_type": "stream",
     "text": [
      "Neural net test set accuracy: 0.666000\n"
     ]
    }
   ],
   "source": [
    "test_pred = best_classifier.predict(test_X)\n",
    "test_accuracy = multiclass_accuracy(test_pred, test_y)\n",
    "print('Neural net test set accuracy: %f' % (test_accuracy, ))"
   ]
  },
  {
   "cell_type": "code",
   "execution_count": null,
   "metadata": {},
   "outputs": [],
   "source": []
  },
  {
   "cell_type": "code",
   "execution_count": null,
   "metadata": {},
   "outputs": [],
   "source": []
  }
 ],
 "metadata": {
  "kernelspec": {
   "display_name": "Python 3 (ipykernel)",
   "language": "python",
   "name": "python3"
  },
  "language_info": {
   "codemirror_mode": {
    "name": "ipython",
    "version": 3
   },
   "file_extension": ".py",
   "mimetype": "text/x-python",
   "name": "python",
   "nbconvert_exporter": "python",
   "pygments_lexer": "ipython3",
   "version": "3.12.4"
  }
 },
 "nbformat": 4,
 "nbformat_minor": 4
}
