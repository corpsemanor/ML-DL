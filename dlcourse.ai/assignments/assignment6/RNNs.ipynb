{
 "cells": [
  {
   "cell_type": "markdown",
   "metadata": {},
   "source": [
    "# Задание 6: Рекуррентные нейронные сети (RNNs)\n",
    "\n",
    "Это задание адаптиповано из Deep NLP Course at ABBYY (https://github.com/DanAnastasyev/DeepNLP-Course) с разрешения автора - Даниила Анастасьева. Спасибо ему огромное!"
   ]
  },
  {
   "cell_type": "code",
   "execution_count": null,
   "metadata": {
    "colab": {},
    "colab_type": "code",
    "id": "P59NYU98GCb9"
   },
   "outputs": [],
   "source": [
    "!pip3 -qq install torch==0.4.1\n",
    "!pip3 -qq install bokeh==0.13.0\n",
    "!pip3 -qq install gensim==3.6.0\n",
    "!pip3 -qq install nltk\n",
    "!pip3 -qq install scikit-learn==0.20.2"
   ]
  },
  {
   "cell_type": "code",
   "execution_count": 1,
   "metadata": {
    "colab": {},
    "colab_type": "code",
    "id": "8sVtGHmA9aBM"
   },
   "outputs": [],
   "source": [
    "import numpy as np\n",
    "\n",
    "import torch\n",
    "import torch.nn as nn\n",
    "import torch.nn.functional as F\n",
    "import torch.optim as optim\n",
    "\n",
    "\n",
    "if torch.cuda.is_available():\n",
    "    from torch.cuda import FloatTensor, LongTensor\n",
    "else:\n",
    "    from torch import FloatTensor, LongTensor\n",
    "\n",
    "np.random.seed(42)"
   ]
  },
  {
   "cell_type": "markdown",
   "metadata": {
    "colab_type": "text",
    "id": "-6CNKM3b4hT1"
   },
   "source": [
    "# Рекуррентные нейронные сети (RNNs)"
   ]
  },
  {
   "cell_type": "markdown",
   "metadata": {
    "colab_type": "text",
    "id": "O_XkoGNQUeGm"
   },
   "source": [
    "## POS Tagging"
   ]
  },
  {
   "cell_type": "markdown",
   "metadata": {
    "colab_type": "text",
    "id": "QFEtWrS_4rUs"
   },
   "source": [
    "Мы рассмотрим применение рекуррентных сетей к задаче sequence labeling (последняя картинка).\n",
    "\n",
    "![RNN types](http://karpathy.github.io/assets/rnn/diags.jpeg)\n",
    "\n",
    "*From [The Unreasonable Effectiveness of Recurrent Neural Networks](http://karpathy.github.io/2015/05/21/rnn-effectiveness/)*\n",
    "\n",
    "Самые популярные примеры для такой постановки задачи - Part-of-Speech Tagging и Named Entity Recognition.\n",
    "\n",
    "Мы порешаем сейчас POS Tagging для английского.\n",
    "\n",
    "Будем работать с таким набором тегов:\n",
    "- ADJ - adjective (new, good, high, ...)\n",
    "- ADP - adposition (on, of, at, ...)\n",
    "- ADV - adverb (really, already, still, ...)\n",
    "- CONJ - conjunction (and, or, but, ...)\n",
    "- DET - determiner, article (the, a, some, ...)\n",
    "- NOUN - noun (year, home, costs, ...)\n",
    "- NUM - numeral (twenty-four, fourth, 1991, ...)\n",
    "- PRT - particle (at, on, out, ...)\n",
    "- PRON - pronoun (he, their, her, ...)\n",
    "- VERB - verb (is, say, told, ...)\n",
    "- . - punctuation marks (. , ;)\n",
    "- X - other (ersatz, esprit, dunno, ...)"
   ]
  },
  {
   "cell_type": "markdown",
   "metadata": {
    "colab_type": "text",
    "id": "EPIkKdFlHB-X"
   },
   "source": [
    "Скачаем данные:"
   ]
  },
  {
   "cell_type": "code",
   "execution_count": 2,
   "metadata": {
    "colab": {},
    "colab_type": "code",
    "id": "TiA2dGmgF1rW"
   },
   "outputs": [
    {
     "name": "stderr",
     "output_type": "stream",
     "text": [
      "[nltk_data] Downloading package brown to\n",
      "[nltk_data]     C:\\Users\\vladi\\AppData\\Roaming\\nltk_data...\n",
      "[nltk_data]   Unzipping corpora\\brown.zip.\n",
      "[nltk_data] Downloading package universal_tagset to\n",
      "[nltk_data]     C:\\Users\\vladi\\AppData\\Roaming\\nltk_data...\n",
      "[nltk_data]   Unzipping taggers\\universal_tagset.zip.\n"
     ]
    }
   ],
   "source": [
    "import nltk\n",
    "from sklearn.model_selection import train_test_split\n",
    "\n",
    "nltk.download('brown')\n",
    "nltk.download('universal_tagset')\n",
    "\n",
    "data = nltk.corpus.brown.tagged_sents(tagset='universal')"
   ]
  },
  {
   "cell_type": "markdown",
   "metadata": {
    "colab_type": "text",
    "id": "d93g_swyJA_V"
   },
   "source": [
    "Пример размеченного предложения:"
   ]
  },
  {
   "cell_type": "code",
   "execution_count": 3,
   "metadata": {
    "colab": {},
    "colab_type": "code",
    "id": "QstS4NO0L97c"
   },
   "outputs": [
    {
     "name": "stdout",
     "output_type": "stream",
     "text": [
      "The            \tDET\n",
      "Fulton         \tNOUN\n",
      "County         \tNOUN\n",
      "Grand          \tADJ\n",
      "Jury           \tNOUN\n",
      "said           \tVERB\n",
      "Friday         \tNOUN\n",
      "an             \tDET\n",
      "investigation  \tNOUN\n",
      "of             \tADP\n",
      "Atlanta's      \tNOUN\n",
      "recent         \tADJ\n",
      "primary        \tNOUN\n",
      "election       \tNOUN\n",
      "produced       \tVERB\n",
      "``             \t.\n",
      "no             \tDET\n",
      "evidence       \tNOUN\n",
      "''             \t.\n",
      "that           \tADP\n",
      "any            \tDET\n",
      "irregularities \tNOUN\n",
      "took           \tVERB\n",
      "place          \tNOUN\n",
      ".              \t.\n"
     ]
    }
   ],
   "source": [
    "for word, tag in data[0]:\n",
    "    print('{:15}\\t{}'.format(word, tag))"
   ]
  },
  {
   "cell_type": "markdown",
   "metadata": {
    "colab_type": "text",
    "id": "epdW8u_YXcAv"
   },
   "source": [
    "Построим разбиение на train/val/test - наконец-то, всё как у нормальных людей.\n",
    "\n",
    "На train будем учиться, по val - подбирать параметры и делать всякие early stopping, а на test - принимать модель по ее финальному качеству."
   ]
  },
  {
   "cell_type": "code",
   "execution_count": 4,
   "metadata": {
    "colab": {},
    "colab_type": "code",
    "id": "xTai8Ta0lgwL"
   },
   "outputs": [
    {
     "name": "stdout",
     "output_type": "stream",
     "text": [
      "Words count in train set: 739769\n",
      "Words count in val set: 130954\n",
      "Words count in test set: 290469\n"
     ]
    }
   ],
   "source": [
    "train_data, test_data = train_test_split(data, test_size=0.25, random_state=42)\n",
    "train_data, val_data = train_test_split(train_data, test_size=0.15, random_state=42)\n",
    "\n",
    "print('Words count in train set:', sum(len(sent) for sent in train_data))\n",
    "print('Words count in val set:', sum(len(sent) for sent in val_data))\n",
    "print('Words count in test set:', sum(len(sent) for sent in test_data))"
   ]
  },
  {
   "cell_type": "markdown",
   "metadata": {
    "colab_type": "text",
    "id": "eChdLNGtXyP0"
   },
   "source": [
    "Построим маппинги из слов в индекс и из тега в индекс:\n"
   ]
  },
  {
   "cell_type": "code",
   "execution_count": 5,
   "metadata": {
    "colab": {},
    "colab_type": "code",
    "id": "pCjwwDs6Zq9x"
   },
   "outputs": [
    {
     "name": "stdout",
     "output_type": "stream",
     "text": [
      "Unique words in train = 45441. Tags = {'.', 'ADJ', 'ADP', 'NUM', 'PRT', 'X', 'DET', 'PRON', 'CONJ', 'NOUN', 'VERB', 'ADV'}\n"
     ]
    }
   ],
   "source": [
    "words = {word for sample in train_data for word, tag in sample}\n",
    "word2ind = {word: ind + 1 for ind, word in enumerate(words)}\n",
    "word2ind['<pad>'] = 0\n",
    "\n",
    "tags = {tag for sample in train_data for word, tag in sample}\n",
    "tag2ind = {tag: ind + 1 for ind, tag in enumerate(tags)}\n",
    "tag2ind['<pad>'] = 0\n",
    "\n",
    "print('Unique words in train = {}. Tags = {}'.format(len(word2ind), tags))"
   ]
  },
  {
   "cell_type": "code",
   "execution_count": 6,
   "metadata": {
    "colab": {},
    "colab_type": "code",
    "id": "URC1B2nvPGFt"
   },
   "outputs": [
    {
     "data": {
      "image/png": "[encoded data removed]",
      "text/plain": [
       "<Figure size 1000x500 with 1 Axes>"
      ]
     },
     "metadata": {},
     "output_type": "display_data"
    }
   ],
   "source": [
    "import matplotlib.pyplot as plt\n",
    "%matplotlib inline\n",
    "\n",
    "from collections import Counter\n",
    "\n",
    "tag_distribution = Counter(tag for sample in train_data for _, tag in sample)\n",
    "tag_distribution = [tag_distribution[tag] for tag in tags]\n",
    "\n",
    "plt.figure(figsize=(10, 5))\n",
    "\n",
    "bar_width = 0.35\n",
    "plt.bar(np.arange(len(tags)), tag_distribution, bar_width, align='center', alpha=0.5)\n",
    "plt.xticks(np.arange(len(tags)), tags)\n",
    "    \n",
    "plt.show()"
   ]
  },
  {
   "cell_type": "markdown",
   "metadata": {
    "colab_type": "text",
    "id": "gArQwbzWWkgi"
   },
   "source": [
    "## Бейзлайн\n",
    "\n",
    "Какой самый простой теггер можно придумать? Давайте просто запоминать, какие теги самые вероятные для слова (или для последовательности):\n",
    "\n",
    "![tag-context](https://www.nltk.org/images/tag-context.png)  \n",
    "*From [Categorizing and Tagging Words, nltk](https://www.nltk.org/book/ch05.html)*\n",
    "\n",
    "На картинке показано, что для предсказания $t_n$ используются два предыдущих предсказанных тега + текущее слово. По корпусу считаются вероятность для $P(t_n| w_n, t_{n-1}, t_{n-2})$, выбирается тег с максимальной вероятностью.\n",
    "\n",
    "Более аккуратно такая идея реализована в Hidden Markov Models: по тренировочному корпусу вычисляются вероятности $P(w_n| t_n), P(t_n|t_{n-1}, t_{n-2})$ и максимизируется их произведение.\n",
    "\n",
    "Простейший вариант - униграммная модель, учитывающая только слово:"
   ]
  },
  {
   "cell_type": "code",
   "execution_count": 7,
   "metadata": {
    "colab": {},
    "colab_type": "code",
    "id": "5rWmSToIaeAo"
   },
   "outputs": [
    {
     "name": "stderr",
     "output_type": "stream",
     "text": [
      "C:\\Users\\vladi\\AppData\\Local\\Temp\\ipykernel_20512\\3805302136.py:6: DeprecationWarning: \n",
      "  Function evaluate() has been deprecated.  Use accuracy(gold)\n",
      "  instead.\n",
      "  print('Accuracy of unigram tagger = {:.2%}'.format(unigram_tagger.evaluate(test_data)))\n"
     ]
    },
    {
     "name": "stdout",
     "output_type": "stream",
     "text": [
      "Accuracy of unigram tagger = 92.62%\n"
     ]
    }
   ],
   "source": [
    "import nltk\n",
    "\n",
    "default_tagger = nltk.DefaultTagger('NN')\n",
    "\n",
    "unigram_tagger = nltk.UnigramTagger(train_data, backoff=default_tagger)\n",
    "print('Accuracy of unigram tagger = {:.2%}'.format(unigram_tagger.evaluate(test_data)))"
   ]
  },
  {
   "cell_type": "markdown",
   "metadata": {
    "colab_type": "text",
    "id": "07Ymb_MkbWsF"
   },
   "source": [
    "Добавим вероятности переходов:"
   ]
  },
  {
   "cell_type": "code",
   "execution_count": 8,
   "metadata": {
    "colab": {},
    "colab_type": "code",
    "id": "vjz_Rk0bbMyH"
   },
   "outputs": [
    {
     "name": "stderr",
     "output_type": "stream",
     "text": [
      "C:\\Users\\vladi\\AppData\\Local\\Temp\\ipykernel_20512\\648162845.py:2: DeprecationWarning: \n",
      "  Function evaluate() has been deprecated.  Use accuracy(gold)\n",
      "  instead.\n",
      "  print('Accuracy of bigram tagger = {:.2%}'.format(bigram_tagger.evaluate(test_data)))\n"
     ]
    },
    {
     "name": "stdout",
     "output_type": "stream",
     "text": [
      "Accuracy of bigram tagger = 93.42%\n"
     ]
    }
   ],
   "source": [
    "bigram_tagger = nltk.BigramTagger(train_data, backoff=unigram_tagger)\n",
    "print('Accuracy of bigram tagger = {:.2%}'.format(bigram_tagger.evaluate(test_data)))"
   ]
  },
  {
   "cell_type": "markdown",
   "metadata": {
    "colab_type": "text",
    "id": "uWMw6QHvbaDd"
   },
   "source": [
    "Обратите внимание, что `backoff` важен:"
   ]
  },
  {
   "cell_type": "code",
   "execution_count": 9,
   "metadata": {
    "colab": {},
    "colab_type": "code",
    "id": "8XCuxEBVbOY_"
   },
   "outputs": [
    {
     "name": "stderr",
     "output_type": "stream",
     "text": [
      "C:\\Users\\vladi\\AppData\\Local\\Temp\\ipykernel_20512\\28852427.py:2: DeprecationWarning: \n",
      "  Function evaluate() has been deprecated.  Use accuracy(gold)\n",
      "  instead.\n",
      "  print('Accuracy of trigram tagger = {:.2%}'.format(trigram_tagger.evaluate(test_data)))\n"
     ]
    },
    {
     "name": "stdout",
     "output_type": "stream",
     "text": [
      "Accuracy of trigram tagger = 23.33%\n"
     ]
    }
   ],
   "source": [
    "trigram_tagger = nltk.TrigramTagger(train_data)\n",
    "print('Accuracy of trigram tagger = {:.2%}'.format(trigram_tagger.evaluate(test_data)))"
   ]
  },
  {
   "cell_type": "markdown",
   "metadata": {
    "colab_type": "text",
    "id": "4t3xyYd__8d-"
   },
   "source": [
    "## Увеличиваем контекст с рекуррентными сетями\n",
    "\n",
    "Униграмная модель работает на удивление хорошо, но мы же собрались учить сеточки.\n",
    "\n",
    "Омонимия - основная причина, почему униграмная модель плоха:  \n",
    "*“he cashed a check at the **bank**”*  \n",
    "vs  \n",
    "*“he sat on the **bank** of the river”*\n",
    "\n",
    "Поэтому нам очень полезно учитывать контекст при предсказании тега.\n",
    "\n",
    "Воспользуемся LSTM - он умеет работать с контекстом очень даже хорошо:\n",
    "\n",
    "![](https://image.ibb.co/kgmoff/Baseline-Tagger.png)\n",
    "\n",
    "Синим показано выделение фичей из слова, LSTM оранжевенький - он строит эмбеддинги слов с учетом контекста, а дальше зелененькая логистическая регрессия делает предсказания тегов."
   ]
  },
  {
   "cell_type": "code",
   "execution_count": 10,
   "metadata": {
    "colab": {},
    "colab_type": "code",
    "id": "RtRbz1SwgEqc"
   },
   "outputs": [],
   "source": [
    "def convert_data(data, word2ind, tag2ind):\n",
    "    X = [[word2ind.get(word, 0) for word, _ in sample] for sample in data]\n",
    "    y = [[tag2ind[tag] for _, tag in sample] for sample in data]\n",
    "    \n",
    "    return X, y\n",
    "\n",
    "X_train, y_train = convert_data(train_data, word2ind, tag2ind)\n",
    "X_val, y_val = convert_data(val_data, word2ind, tag2ind)\n",
    "X_test, y_test = convert_data(test_data, word2ind, tag2ind)"
   ]
  },
  {
   "cell_type": "code",
   "execution_count": 11,
   "metadata": {
    "colab": {},
    "colab_type": "code",
    "id": "DhsTKZalfih6"
   },
   "outputs": [],
   "source": [
    "def iterate_batches(data, batch_size):\n",
    "    X, y = data\n",
    "    n_samples = len(X)\n",
    "\n",
    "    indices = np.arange(n_samples)\n",
    "    np.random.shuffle(indices)\n",
    "    \n",
    "    for start in range(0, n_samples, batch_size):\n",
    "        end = min(start + batch_size, n_samples)\n",
    "        \n",
    "        batch_indices = indices[start:end]\n",
    "        \n",
    "        max_sent_len = max(len(X[ind]) for ind in batch_indices)\n",
    "        X_batch = np.zeros((max_sent_len, len(batch_indices)))\n",
    "        y_batch = np.zeros((max_sent_len, len(batch_indices)))\n",
    "        \n",
    "        for batch_ind, sample_ind in enumerate(batch_indices):\n",
    "            X_batch[:len(X[sample_ind]), batch_ind] = X[sample_ind]\n",
    "            y_batch[:len(y[sample_ind]), batch_ind] = y[sample_ind]\n",
    "            \n",
    "        yield X_batch, y_batch"
   ]
  },
  {
   "cell_type": "code",
   "execution_count": 12,
   "metadata": {
    "colab": {},
    "colab_type": "code",
    "id": "l4XsRII5kW5x"
   },
   "outputs": [
    {
     "data": {
      "text/plain": [
       "((32, 4), (32, 4))"
      ]
     },
     "execution_count": 12,
     "metadata": {},
     "output_type": "execute_result"
    }
   ],
   "source": [
    "X_batch, y_batch = next(iterate_batches((X_train, y_train), 4))\n",
    "\n",
    "X_batch.shape, y_batch.shape"
   ]
  },
  {
   "cell_type": "markdown",
   "metadata": {
    "colab_type": "text",
    "id": "C5I9E9P6eFYv"
   },
   "source": [
    "**Задание** Реализуйте `LSTMTagger`:"
   ]
  },
  {
   "cell_type": "code",
   "execution_count": 15,
   "metadata": {
    "colab": {},
    "colab_type": "code",
    "id": "WVEHju54d68T"
   },
   "outputs": [],
   "source": [
    "class LSTMTagger(nn.Module):\n",
    "    def __init__(self, vocab_size, tagset_size, word_emb_dim=100, lstm_hidden_dim=128, lstm_layers_count=1):\n",
    "        super().__init__()\n",
    "        \n",
    "        self.emb = nn.Embedding(vocab_size, word_emb_dim)\n",
    "        self.lstm = nn.LSTM(word_emb_dim, lstm_hidden_dim,lstm_layers_count, bidirectional=False)\n",
    "        self.linear = nn.Linear(lstm_hidden_dim, tagset_size)\n",
    "\n",
    "    def forward(self, inputs):\n",
    "        out = self.emb(inputs)\n",
    "        out, _ = self.lstm(out)\n",
    "        out = self.linear(out)\n",
    "        return out"
   ]
  },
  {
   "cell_type": "markdown",
   "metadata": {
    "colab_type": "text",
    "id": "q_HA8zyheYGH"
   },
   "source": [
    "**Задание** Научитесь считать accuracy и loss (а заодно проверьте, что модель работает)"
   ]
  },
  {
   "cell_type": "code",
   "execution_count": 32,
   "metadata": {
    "colab": {},
    "colab_type": "code",
    "id": "jbrxsZ2mehWB"
   },
   "outputs": [
    {
     "name": "stdout",
     "output_type": "stream",
     "text": [
      "Accuracy: 0.141\n"
     ]
    }
   ],
   "source": [
    "model = LSTMTagger(\n",
    "    vocab_size=len(word2ind),\n",
    "    tagset_size=len(tag2ind)\n",
    ")\n",
    "\n",
    "X_batch, y_batch = torch.LongTensor(X_batch), torch.LongTensor(y_batch)\n",
    "\n",
    "logits = model(X_batch)\n",
    "\n",
    "mask = (y_batch != 0).float()\n",
    "preds = torch.argmax(logits,2)\n",
    "current_count = ((preds ==y_batch).float() * mask).sum()\n",
    "total_count = mask.sum()\n",
    "accuracy = current_count / total_count\n",
    "print('Accuracy: {:.3}'.format(accuracy))"
   ]
  },
  {
   "cell_type": "code",
   "execution_count": 33,
   "metadata": {
    "colab": {},
    "colab_type": "code",
    "id": "GMUyUm1hgpe3"
   },
   "outputs": [
    {
     "name": "stdout",
     "output_type": "stream",
     "text": [
      "Loss: 2.54\n"
     ]
    }
   ],
   "source": [
    "criterion = nn.CrossEntropyLoss()\n",
    "\n",
    "loss = criterion(logits.transpose(2,1), y_batch)\n",
    "print('Loss: {:.3}'.format(loss))"
   ]
  },
  {
   "cell_type": "markdown",
   "metadata": {
    "colab_type": "text",
    "id": "nSgV3NPUpcjH"
   },
   "source": [
    "**Задание** Вставьте эти вычисление в функцию:"
   ]
  },
  {
   "cell_type": "code",
   "execution_count": 34,
   "metadata": {
    "colab": {},
    "colab_type": "code",
    "id": "FprPQ0gllo7b"
   },
   "outputs": [],
   "source": [
    "import math\n",
    "from tqdm import tqdm\n",
    "\n",
    "\n",
    "def do_epoch(model, criterion, data, batch_size, optimizer=None, name=None):\n",
    "    epoch_loss = 0\n",
    "    correct_count = 0\n",
    "    sum_count = 0\n",
    "    \n",
    "    is_train = not optimizer is None\n",
    "    name = name or ''\n",
    "    model.train(is_train)\n",
    "    \n",
    "    batches_count = math.ceil(len(data[0]) / batch_size)\n",
    "    \n",
    "    with torch.autograd.set_grad_enabled(is_train):\n",
    "        with tqdm(total=batches_count) as progress_bar:\n",
    "            for i, (X_batch, y_batch) in enumerate(iterate_batches(data, batch_size)):\n",
    "                X_batch, y_batch = LongTensor(X_batch), LongTensor(y_batch)\n",
    "                logits = model(X_batch)\n",
    "\n",
    "                loss = criterion(logits.transpose(2,1), y_batch)\n",
    "\n",
    "                epoch_loss += loss.item()\n",
    "\n",
    "                if optimizer:\n",
    "                    optimizer.zero_grad()\n",
    "                    loss.backward()\n",
    "                    optimizer.step()\n",
    "\n",
    "                mask = (y_batch != 0).float()\n",
    "                preds = torch.argmax(logits,2)\n",
    "                cur_correct_count = ((preds ==y_batch).float() * mask).sum()\n",
    "                cur_sum_count = mask.sum()\n",
    "\n",
    "                correct_count += cur_correct_count\n",
    "                sum_count += cur_sum_count\n",
    "\n",
    "                progress_bar.update()\n",
    "                progress_bar.set_description('{:>5s} Loss = {:.5f}, Accuracy = {:.2%}'.format(\n",
    "                    name, loss.item(), cur_correct_count / cur_sum_count)\n",
    "                )\n",
    "                \n",
    "            progress_bar.set_description('{:>5s} Loss = {:.5f}, Accuracy = {:.2%}'.format(\n",
    "                name, epoch_loss / batches_count, correct_count / sum_count)\n",
    "            )\n",
    "\n",
    "    return epoch_loss / batches_count, correct_count / sum_count\n",
    "\n",
    "\n",
    "def fit(model, criterion, optimizer, train_data, epochs_count=1, batch_size=32,\n",
    "        val_data=None, val_batch_size=None):\n",
    "        \n",
    "    if not val_data is None and val_batch_size is None:\n",
    "        val_batch_size = batch_size\n",
    "        \n",
    "    for epoch in range(epochs_count):\n",
    "        name_prefix = '[{} / {}] '.format(epoch + 1, epochs_count)\n",
    "        train_loss, train_acc = do_epoch(model, criterion, train_data, batch_size, optimizer, name_prefix + 'Train:')\n",
    "        \n",
    "        if not val_data is None:\n",
    "            val_loss, val_acc = do_epoch(model, criterion, val_data, val_batch_size, None, name_prefix + '  Val:')"
   ]
  },
  {
   "cell_type": "code",
   "execution_count": 43,
   "metadata": {
    "colab": {},
    "colab_type": "code",
    "id": "Pqfbeh1ltEYa"
   },
   "outputs": [
    {
     "name": "stderr",
     "output_type": "stream",
     "text": [
      "[1 / 15] Train: Loss = 0.32338, Accuracy = 71.24%: 100%|██████████| 572/572 [00:10<00:00, 54.56it/s]\n",
      "[1 / 15]   Val: Loss = 0.10220, Accuracy = 84.91%: 100%|██████████| 13/13 [00:00<00:00, 21.44it/s]\n",
      "[2 / 15] Train: Loss = 0.10132, Accuracy = 89.93%: 100%|██████████| 572/572 [00:09<00:00, 58.82it/s]\n",
      "[2 / 15]   Val: Loss = 0.07484, Accuracy = 89.46%: 100%|██████████| 13/13 [00:00<00:00, 22.40it/s]\n",
      "[3 / 15] Train: Loss = 0.06710, Accuracy = 93.18%: 100%|██████████| 572/572 [00:10<00:00, 56.03it/s]\n",
      "[3 / 15]   Val: Loss = 0.06608, Accuracy = 91.08%: 100%|██████████| 13/13 [00:00<00:00, 24.02it/s]\n",
      "[4 / 15] Train: Loss = 0.05129, Accuracy = 94.79%: 100%|██████████| 572/572 [00:09<00:00, 57.26it/s]\n",
      "[4 / 15]   Val: Loss = 0.06605, Accuracy = 91.92%: 100%|██████████| 13/13 [00:00<00:00, 23.05it/s]\n",
      "[5 / 15] Train: Loss = 0.04088, Accuracy = 95.82%: 100%|██████████| 572/572 [00:08<00:00, 63.63it/s]\n",
      "[5 / 15]   Val: Loss = 0.06106, Accuracy = 92.45%: 100%|██████████| 13/13 [00:00<00:00, 23.86it/s]\n",
      "[6 / 15] Train: Loss = 0.03326, Accuracy = 96.55%: 100%|██████████| 572/572 [00:08<00:00, 67.18it/s]\n",
      "[6 / 15]   Val: Loss = 0.06615, Accuracy = 92.81%: 100%|██████████| 13/13 [00:00<00:00, 24.21it/s]\n",
      "[7 / 15] Train: Loss = 0.02739, Accuracy = 97.14%: 100%|██████████| 572/572 [00:08<00:00, 67.78it/s]\n",
      "[7 / 15]   Val: Loss = 0.07239, Accuracy = 92.95%: 100%|██████████| 13/13 [00:00<00:00, 25.75it/s]\n",
      "[8 / 15] Train: Loss = 0.02279, Accuracy = 97.63%: 100%|██████████| 572/572 [00:08<00:00, 67.20it/s]\n",
      "[8 / 15]   Val: Loss = 0.06761, Accuracy = 93.09%: 100%|██████████| 13/13 [00:00<00:00, 24.75it/s]\n",
      "[9 / 15] Train: Loss = 0.01887, Accuracy = 98.04%: 100%|██████████| 572/572 [00:08<00:00, 67.43it/s]\n",
      "[9 / 15]   Val: Loss = 0.06889, Accuracy = 93.05%: 100%|██████████| 13/13 [00:00<00:00, 23.38it/s]\n",
      "[10 / 15] Train: Loss = 0.01565, Accuracy = 98.37%: 100%|██████████| 572/572 [00:08<00:00, 66.59it/s]\n",
      "[10 / 15]   Val: Loss = 0.06878, Accuracy = 93.07%: 100%|██████████| 13/13 [00:00<00:00, 23.26it/s]\n",
      "[11 / 15] Train: Loss = 0.01300, Accuracy = 98.67%: 100%|██████████| 572/572 [00:08<00:00, 66.97it/s]\n",
      "[11 / 15]   Val: Loss = 0.07297, Accuracy = 93.03%: 100%|██████████| 13/13 [00:00<00:00, 23.24it/s]\n",
      "[12 / 15] Train: Loss = 0.01073, Accuracy = 98.93%: 100%|██████████| 572/572 [00:08<00:00, 67.29it/s]\n",
      "[12 / 15]   Val: Loss = 0.07700, Accuracy = 92.97%: 100%|██████████| 13/13 [00:00<00:00, 23.99it/s]\n",
      "[13 / 15] Train: Loss = 0.00867, Accuracy = 99.14%: 100%|██████████| 572/572 [00:08<00:00, 67.12it/s]\n",
      "[13 / 15]   Val: Loss = 0.07791, Accuracy = 92.93%: 100%|██████████| 13/13 [00:00<00:00, 23.18it/s]\n",
      "[14 / 15] Train: Loss = 0.00701, Accuracy = 99.32%: 100%|██████████| 572/572 [00:08<00:00, 66.83it/s]\n",
      "[14 / 15]   Val: Loss = 0.08311, Accuracy = 92.86%: 100%|██████████| 13/13 [00:00<00:00, 23.43it/s]\n",
      "[15 / 15] Train: Loss = 0.00578, Accuracy = 99.46%: 100%|██████████| 572/572 [00:08<00:00, 66.79it/s] \n",
      "[15 / 15]   Val: Loss = 0.08839, Accuracy = 92.85%: 100%|██████████| 13/13 [00:00<00:00, 23.39it/s]\n"
     ]
    }
   ],
   "source": [
    "model = LSTMTagger(\n",
    "    vocab_size=len(word2ind),\n",
    "    tagset_size=len(tag2ind)\n",
    ").cuda()\n",
    "\n",
    "criterion = nn.CrossEntropyLoss().cuda()\n",
    "optimizer = optim.Adam(model.parameters())\n",
    "\n",
    "fit(model, criterion, optimizer, train_data=(X_train, y_train), epochs_count=15,\n",
    "    batch_size=64, val_data=(X_val, y_val), val_batch_size=512)"
   ]
  },
  {
   "cell_type": "markdown",
   "metadata": {
    "colab_type": "text",
    "id": "m0qGetIhfUE5"
   },
   "source": [
    "### Masking\n",
    "\n",
    "**Задание** Проверьте себя - не считаете ли вы потери и accuracy на паддингах - очень легко получить высокое качество за счет этого.\n",
    "\n",
    "У функции потерь есть параметр `ignore_index`, для таких целей. Для accuracy нужно использовать маскинг - умножение на маску из нулей и единиц, где нули на позициях паддингов (а потом усреднение по ненулевым позициям в маске)."
   ]
  },
  {
   "cell_type": "markdown",
   "metadata": {
    "colab_type": "text",
    "id": "nAfV2dEOfHo5"
   },
   "source": [
    "**Задание** Посчитайте качество модели на тесте. Ожидается результат лучше бейзлайна!"
   ]
  },
  {
   "cell_type": "code",
   "execution_count": 44,
   "metadata": {
    "colab": {},
    "colab_type": "code",
    "id": "98wr38_rw55D"
   },
   "outputs": [
    {
     "name": "stdout",
     "output_type": "stream",
     "text": [
      "Accuracy: 0.0217\n",
      "Loss: 2.58\n"
     ]
    }
   ],
   "source": [
    "model = LSTMTagger(\n",
    "    vocab_size=len(word2ind),\n",
    "    tagset_size=len(tag2ind)\n",
    ")\n",
    "\n",
    "X_batch, y_batch = torch.LongTensor(X_batch), torch.LongTensor(y_batch)\n",
    "\n",
    "logits = model(X_batch)\n",
    "\n",
    "mask = (y_batch != 0).float()\n",
    "preds = torch.argmax(logits,2)\n",
    "current_count = ((preds ==y_batch).float() * mask).sum()\n",
    "total_count = mask.sum()\n",
    "accuracy = current_count / total_count\n",
    "print('Accuracy: {:.3}'.format(accuracy))\n",
    "\n",
    "criterion = nn.CrossEntropyLoss(ignore_index = 0)\n",
    "loss = criterion(logits.transpose(2,1), y_batch)\n",
    "print('Loss: {:.3}'.format(loss))"
   ]
  },
  {
   "cell_type": "markdown",
   "metadata": {
    "colab_type": "text",
    "id": "PXUTSFaEHbDG"
   },
   "source": [
    "### Bidirectional LSTM\n",
    "\n",
    "Благодаря BiLSTM можно использовать сразу оба контеста при предсказании тега слова. Т.е. для каждого токена $w_i$ forward LSTM будет выдавать представление $\\mathbf{f_i} \\sim (w_1, \\ldots, w_i)$ - построенное по всему левому контексту - и $\\mathbf{b_i} \\sim (w_n, \\ldots, w_i)$ - представление правого контекста. Их конкатенация автоматически захватит весь доступный контекст слова: $\\mathbf{h_i} = [\\mathbf{f_i}, \\mathbf{b_i}] \\sim (w_1, \\ldots, w_n)$.\n",
    "\n",
    "![BiLSTM](https://www.researchgate.net/profile/Wang_Ling/publication/280912217/figure/fig2/AS:391505383575555@1470353565299/Illustration-of-our-neural-network-for-POS-tagging.png)  \n",
    "*From [Finding Function in Form: Compositional Character Models for Open Vocabulary Word Representation](https://arxiv.org/abs/1508.02096)*\n",
    "\n",
    "**Задание** Добавьте Bidirectional LSTM."
   ]
  },
  {
   "cell_type": "code",
   "execution_count": 40,
   "metadata": {},
   "outputs": [],
   "source": [
    "class BiLSTMTagger(nn.Module):\n",
    "    def __init__(self, vocab_size, tagset_size, word_emb_dim=100, lstm_hidden_dim=128, lstm_layers_count=1):\n",
    "        super().__init__()\n",
    "        \n",
    "        # <create layers>\n",
    "        self.emb = nn.Embedding(vocab_size, word_emb_dim)\n",
    "        self.lstm = nn.LSTM(word_emb_dim, lstm_hidden_dim, lstm_layers_count, bidirectional=True)\n",
    "        self.linear = nn.Linear(lstm_hidden_dim*2, tagset_size)\n",
    "\n",
    "    def forward(self, inputs):\n",
    "        # <apply them>\n",
    "        out = self.emb(inputs)\n",
    "        out, _ = self.lstm(out)\n",
    "        out = self.linear(out)\n",
    "        \n",
    "        return out"
   ]
  },
  {
   "cell_type": "code",
   "execution_count": 41,
   "metadata": {},
   "outputs": [
    {
     "name": "stderr",
     "output_type": "stream",
     "text": [
      "[1 / 20] Train: Loss = 0.55535, Accuracy = 82.58%: 100%|██████████| 572/572 [00:15<00:00, 37.30it/s]\n",
      "[1 / 20]   Val: Loss = 0.27014, Accuracy = 91.20%: 100%|██████████| 13/13 [00:01<00:00,  8.24it/s]\n",
      "[2 / 20] Train: Loss = 0.20458, Accuracy = 93.50%: 100%|██████████| 572/572 [00:14<00:00, 38.77it/s]\n",
      "[2 / 20]   Val: Loss = 0.17697, Accuracy = 94.34%: 100%|██████████| 13/13 [00:00<00:00, 13.77it/s]\n",
      "[3 / 20] Train: Loss = 0.13017, Accuracy = 95.95%: 100%|██████████| 572/572 [00:14<00:00, 38.91it/s]\n",
      "[3 / 20]   Val: Loss = 0.13770, Accuracy = 95.56%: 100%|██████████| 13/13 [00:01<00:00, 12.38it/s]\n",
      "[4 / 20] Train: Loss = 0.08884, Accuracy = 97.28%: 100%|██████████| 572/572 [00:14<00:00, 39.53it/s]\n",
      "[4 / 20]   Val: Loss = 0.11981, Accuracy = 96.16%: 100%|██████████| 13/13 [00:00<00:00, 13.06it/s]\n",
      "[5 / 20] Train: Loss = 0.06170, Accuracy = 98.16%: 100%|██████████| 572/572 [00:14<00:00, 38.20it/s]\n",
      "[5 / 20]   Val: Loss = 0.11270, Accuracy = 96.41%: 100%|██████████| 13/13 [00:01<00:00, 12.27it/s]\n",
      "[6 / 20] Train: Loss = 0.04211, Accuracy = 98.78%: 100%|██████████| 572/572 [00:14<00:00, 39.92it/s] \n",
      "[6 / 20]   Val: Loss = 0.11090, Accuracy = 96.58%: 100%|██████████| 13/13 [00:01<00:00, 12.30it/s]\n",
      "[7 / 20] Train: Loss = 0.02843, Accuracy = 99.22%: 100%|██████████| 572/572 [00:14<00:00, 39.19it/s]\n",
      "[7 / 20]   Val: Loss = 0.11353, Accuracy = 96.61%: 100%|██████████| 13/13 [00:01<00:00, 11.94it/s]\n",
      "[8 / 20] Train: Loss = 0.01879, Accuracy = 99.52%: 100%|██████████| 572/572 [00:15<00:00, 37.51it/s] \n",
      "[8 / 20]   Val: Loss = 0.11907, Accuracy = 96.70%: 100%|██████████| 13/13 [00:01<00:00, 12.64it/s]\n",
      "[9 / 20] Train: Loss = 0.01198, Accuracy = 99.73%: 100%|██████████| 572/572 [00:14<00:00, 39.86it/s] \n",
      "[9 / 20]   Val: Loss = 0.12858, Accuracy = 96.64%: 100%|██████████| 13/13 [00:01<00:00, 12.51it/s]\n",
      "[10 / 20] Train: Loss = 0.00770, Accuracy = 99.84%: 100%|██████████| 572/572 [00:14<00:00, 39.12it/s] \n",
      "[10 / 20]   Val: Loss = 0.13088, Accuracy = 96.67%: 100%|██████████| 13/13 [00:00<00:00, 13.24it/s]\n",
      "[11 / 20] Train: Loss = 0.00469, Accuracy = 99.92%: 100%|██████████| 572/572 [00:14<00:00, 39.78it/s] \n",
      "[11 / 20]   Val: Loss = 0.13700, Accuracy = 96.64%: 100%|██████████| 13/13 [00:01<00:00, 11.90it/s]\n",
      "[12 / 20] Train: Loss = 0.00310, Accuracy = 99.96%: 100%|██████████| 572/572 [00:14<00:00, 40.85it/s] \n",
      "[12 / 20]   Val: Loss = 0.14790, Accuracy = 96.64%: 100%|██████████| 13/13 [00:01<00:00, 12.29it/s]\n",
      "[13 / 20] Train: Loss = 0.00182, Accuracy = 99.98%: 100%|██████████| 572/572 [00:14<00:00, 38.86it/s] \n",
      "[13 / 20]   Val: Loss = 0.15397, Accuracy = 96.72%: 100%|██████████| 13/13 [00:01<00:00, 12.27it/s]\n",
      "[14 / 20] Train: Loss = 0.00145, Accuracy = 99.98%: 100%|██████████| 572/572 [00:14<00:00, 40.00it/s] \n",
      "[14 / 20]   Val: Loss = 0.16972, Accuracy = 96.55%: 100%|██████████| 13/13 [00:01<00:00, 12.87it/s]\n",
      "[15 / 20] Train: Loss = 0.00153, Accuracy = 99.98%: 100%|██████████| 572/572 [00:13<00:00, 40.95it/s] \n",
      "[15 / 20]   Val: Loss = 0.17524, Accuracy = 96.51%: 100%|██████████| 13/13 [00:01<00:00, 11.89it/s]\n",
      "[16 / 20] Train: Loss = 0.00328, Accuracy = 99.91%: 100%|██████████| 572/572 [00:14<00:00, 40.06it/s] \n",
      "[16 / 20]   Val: Loss = 0.17691, Accuracy = 96.55%: 100%|██████████| 13/13 [00:01<00:00, 12.54it/s]\n",
      "[17 / 20] Train: Loss = 0.00160, Accuracy = 99.97%: 100%|██████████| 572/572 [00:14<00:00, 40.52it/s] \n",
      "[17 / 20]   Val: Loss = 0.17166, Accuracy = 96.69%: 100%|██████████| 13/13 [00:00<00:00, 13.46it/s]\n",
      "[18 / 20] Train: Loss = 0.00064, Accuracy = 99.99%: 100%|██████████| 572/572 [00:14<00:00, 39.98it/s] \n",
      "[18 / 20]   Val: Loss = 0.17903, Accuracy = 96.68%: 100%|██████████| 13/13 [00:01<00:00, 12.98it/s]\n",
      "[19 / 20] Train: Loss = 0.00031, Accuracy = 100.00%: 100%|██████████| 572/572 [00:14<00:00, 39.19it/s]\n",
      "[19 / 20]   Val: Loss = 0.18054, Accuracy = 96.78%: 100%|██████████| 13/13 [00:01<00:00, 12.07it/s]\n",
      "[20 / 20] Train: Loss = 0.00022, Accuracy = 100.00%: 100%|██████████| 572/572 [00:14<00:00, 38.73it/s]\n",
      "[20 / 20]   Val: Loss = 0.18510, Accuracy = 96.76%: 100%|██████████| 13/13 [00:01<00:00, 12.00it/s]\n"
     ]
    }
   ],
   "source": [
    "model = BiLSTMTagger(\n",
    "    vocab_size=len(word2ind),\n",
    "    tagset_size=len(tag2ind)\n",
    ").cuda()\n",
    "\n",
    "criterion = nn.CrossEntropyLoss(ignore_index=0).cuda()\n",
    "optimizer = optim.Adam(model.parameters())\n",
    "\n",
    "fit(model, criterion, optimizer, train_data=(X_train, y_train), epochs_count=20,\n",
    "    batch_size=64, val_data=(X_val, y_val), val_batch_size=512)"
   ]
  },
  {
   "cell_type": "markdown",
   "metadata": {
    "colab_type": "text",
    "id": "ZTXmYGD_ANhm"
   },
   "source": [
    "### Предобученные эмбеддинги\n",
    "\n",
    "Мы знаем, какая клёвая вещь - предобученные эмбеддинги. При текущем размере обучающей выборки еще можно было учить их и с нуля - с меньшей было бы совсем плохо.\n",
    "\n",
    "Поэтому стандартный пайплайн - скачать эмбеддинги, засунуть их в сеточку. Запустим его:"
   ]
  },
  {
   "cell_type": "code",
   "execution_count": 45,
   "metadata": {
    "colab": {},
    "colab_type": "code",
    "id": "uZpY_Q1xZ18h"
   },
   "outputs": [
    {
     "name": "stdout",
     "output_type": "stream",
     "text": [
      "[==================================================] 100.0% 128.1/128.1MB downloaded\n"
     ]
    }
   ],
   "source": [
    "import gensim.downloader as api\n",
    "\n",
    "w2v_model = api.load('glove-wiki-gigaword-100')"
   ]
  },
  {
   "cell_type": "markdown",
   "metadata": {
    "colab_type": "text",
    "id": "KYogOoKlgtcf"
   },
   "source": [
    "Построим подматрицу для слов из нашей тренировочной выборки:"
   ]
  },
  {
   "cell_type": "code",
   "execution_count": 73,
   "metadata": {
    "colab": {},
    "colab_type": "code",
    "id": "VsCstxiO03oT"
   },
   "outputs": [
    {
     "name": "stdout",
     "output_type": "stream",
     "text": [
      "Know 38736 out of 45441 word embeddings\n"
     ]
    }
   ],
   "source": [
    "known_count = 0\n",
    "embeddings = np.zeros((len(word2ind), w2v_model.vectors.shape[1]))\n",
    "for word, ind in word2ind.items():\n",
    "    word = word.lower()\n",
    "    if word in w2v_model.key_to_index:\n",
    "        embeddings[ind] = w2v_model.get_vector(word)\n",
    "        known_count += 1\n",
    "        \n",
    "print('Know {} out of {} word embeddings'.format(known_count, len(word2ind)))"
   ]
  },
  {
   "cell_type": "markdown",
   "metadata": {
    "colab_type": "text",
    "id": "HcG7i-R8hbY3"
   },
   "source": [
    "**Задание** Сделайте модель с предобученной матрицей. Используйте `nn.Embedding.from_pretrained`."
   ]
  },
  {
   "cell_type": "code",
   "execution_count": 74,
   "metadata": {
    "colab": {},
    "colab_type": "code",
    "id": "LxaRBpQd0pat"
   },
   "outputs": [],
   "source": [
    "class LSTMTaggerWithPretrainedEmbs(nn.Module):\n",
    "    def __init__(self, embeddings, tagset_size, word_emb_dim=100, lstm_hidden_dim=128, lstm_layers_count=1):\n",
    "        super().__init__()\n",
    "        \n",
    "        # <create layers>\n",
    "        self.emb = nn.Embedding.from_pretrained(embeddings)\n",
    "        self.lstm = nn.LSTM(embeddings.shape[1], lstm_hidden_dim, lstm_layers_count, bidirectional=True)\n",
    "        self.linear = nn.Linear(lstm_hidden_dim*2, tagset_size)\n",
    "\n",
    "    def forward(self, inputs):\n",
    "        # <apply them>\n",
    "        out = self.emb(inputs)\n",
    "        out, _ = self.lstm(out)\n",
    "        out = self.linear(out)\n",
    "        \n",
    "        return out"
   ]
  },
  {
   "cell_type": "code",
   "execution_count": 75,
   "metadata": {
    "colab": {},
    "colab_type": "code",
    "id": "EBtI6BDE-Fc7"
   },
   "outputs": [
    {
     "name": "stderr",
     "output_type": "stream",
     "text": [
      "[1 / 20] Train: Loss = 0.46690, Accuracy = 86.23%: 100%|██████████| 572/572 [00:11<00:00, 49.25it/s]\n",
      "[1 / 20]   Val: Loss = 0.22562, Accuracy = 93.28%: 100%|██████████| 13/13 [00:01<00:00, 12.82it/s]\n",
      "[2 / 20] Train: Loss = 0.16370, Accuracy = 95.11%: 100%|██████████| 572/572 [00:11<00:00, 50.35it/s]\n",
      "[2 / 20]   Val: Loss = 0.15414, Accuracy = 95.29%: 100%|██████████| 13/13 [00:01<00:00, 12.02it/s]\n",
      "[3 / 20] Train: Loss = 0.11623, Accuracy = 96.50%: 100%|██████████| 572/572 [00:11<00:00, 49.92it/s]\n",
      "[3 / 20]   Val: Loss = 0.12694, Accuracy = 96.06%: 100%|██████████| 13/13 [00:01<00:00, 13.00it/s]\n",
      "[4 / 20] Train: Loss = 0.09318, Accuracy = 97.16%: 100%|██████████| 572/572 [00:11<00:00, 50.63it/s]\n",
      "[4 / 20]   Val: Loss = 0.11332, Accuracy = 96.40%: 100%|██████████| 13/13 [00:01<00:00, 12.83it/s]\n",
      "[5 / 20] Train: Loss = 0.07923, Accuracy = 97.58%: 100%|██████████| 572/572 [00:11<00:00, 50.63it/s]\n",
      "[5 / 20]   Val: Loss = 0.10374, Accuracy = 96.71%: 100%|██████████| 13/13 [00:00<00:00, 13.05it/s]\n",
      "[6 / 20] Train: Loss = 0.06923, Accuracy = 97.88%: 100%|██████████| 572/572 [00:11<00:00, 51.08it/s]\n",
      "[6 / 20]   Val: Loss = 0.09843, Accuracy = 96.84%: 100%|██████████| 13/13 [00:00<00:00, 13.37it/s]\n",
      "[7 / 20] Train: Loss = 0.06147, Accuracy = 98.11%: 100%|██████████| 572/572 [00:11<00:00, 50.79it/s]\n",
      "[7 / 20]   Val: Loss = 0.09618, Accuracy = 96.92%: 100%|██████████| 13/13 [00:00<00:00, 13.07it/s]\n",
      "[8 / 20] Train: Loss = 0.05520, Accuracy = 98.29%: 100%|██████████| 572/572 [00:11<00:00, 50.56it/s]\n",
      "[8 / 20]   Val: Loss = 0.09353, Accuracy = 97.00%: 100%|██████████| 13/13 [00:01<00:00, 12.52it/s]\n",
      "[9 / 20] Train: Loss = 0.04949, Accuracy = 98.47%: 100%|██████████| 572/572 [00:11<00:00, 50.66it/s]\n",
      "[9 / 20]   Val: Loss = 0.09210, Accuracy = 97.04%: 100%|██████████| 13/13 [00:00<00:00, 13.08it/s]\n",
      "[10 / 20] Train: Loss = 0.04484, Accuracy = 98.62%: 100%|██████████| 572/572 [00:11<00:00, 50.95it/s]\n",
      "[10 / 20]   Val: Loss = 0.09348, Accuracy = 97.05%: 100%|██████████| 13/13 [00:01<00:00, 12.84it/s]\n",
      "[11 / 20] Train: Loss = 0.04048, Accuracy = 98.75%: 100%|██████████| 572/572 [00:11<00:00, 50.76it/s]\n",
      "[11 / 20]   Val: Loss = 0.09569, Accuracy = 97.05%: 100%|██████████| 13/13 [00:00<00:00, 13.21it/s]\n",
      "[12 / 20] Train: Loss = 0.03623, Accuracy = 98.89%: 100%|██████████| 572/572 [00:11<00:00, 50.62it/s]\n",
      "[12 / 20]   Val: Loss = 0.09527, Accuracy = 97.07%: 100%|██████████| 13/13 [00:00<00:00, 13.30it/s]\n",
      "[13 / 20] Train: Loss = 0.03215, Accuracy = 99.03%: 100%|██████████| 572/572 [00:11<00:00, 50.89it/s]\n",
      "[13 / 20]   Val: Loss = 0.09791, Accuracy = 97.06%: 100%|██████████| 13/13 [00:01<00:00, 12.62it/s]\n",
      "[14 / 20] Train: Loss = 0.02870, Accuracy = 99.15%: 100%|██████████| 572/572 [00:11<00:00, 50.81it/s]\n",
      "[14 / 20]   Val: Loss = 0.10169, Accuracy = 97.01%: 100%|██████████| 13/13 [00:00<00:00, 13.12it/s]\n",
      "[15 / 20] Train: Loss = 0.02537, Accuracy = 99.27%: 100%|██████████| 572/572 [00:11<00:00, 50.95it/s]\n",
      "[15 / 20]   Val: Loss = 0.10200, Accuracy = 97.02%: 100%|██████████| 13/13 [00:01<00:00, 12.91it/s]\n",
      "[16 / 20] Train: Loss = 0.02241, Accuracy = 99.37%: 100%|██████████| 572/572 [00:11<00:00, 51.13it/s]\n",
      "[16 / 20]   Val: Loss = 0.10614, Accuracy = 96.90%: 100%|██████████| 13/13 [00:00<00:00, 13.04it/s]\n",
      "[17 / 20] Train: Loss = 0.01924, Accuracy = 99.47%: 100%|██████████| 572/572 [00:11<00:00, 50.90it/s] \n",
      "[17 / 20]   Val: Loss = 0.10708, Accuracy = 96.98%: 100%|██████████| 13/13 [00:00<00:00, 13.31it/s]\n",
      "[18 / 20] Train: Loss = 0.01659, Accuracy = 99.57%: 100%|██████████| 572/572 [00:11<00:00, 50.91it/s] \n",
      "[18 / 20]   Val: Loss = 0.11046, Accuracy = 96.91%: 100%|██████████| 13/13 [00:01<00:00, 12.88it/s]\n",
      "[19 / 20] Train: Loss = 0.01420, Accuracy = 99.64%: 100%|██████████| 572/572 [00:11<00:00, 50.82it/s] \n",
      "[19 / 20]   Val: Loss = 0.11445, Accuracy = 96.80%: 100%|██████████| 13/13 [00:01<00:00, 12.89it/s]\n",
      "[20 / 20] Train: Loss = 0.01207, Accuracy = 99.72%: 100%|██████████| 572/572 [00:11<00:00, 51.24it/s] \n",
      "[20 / 20]   Val: Loss = 0.11871, Accuracy = 96.88%: 100%|██████████| 13/13 [00:00<00:00, 13.02it/s]\n"
     ]
    }
   ],
   "source": [
    "model = LSTMTaggerWithPretrainedEmbs(\n",
    "    embeddings=torch.FloatTensor(embeddings),\n",
    "    tagset_size=len(tag2ind)\n",
    ").cuda()\n",
    "\n",
    "criterion = nn.CrossEntropyLoss(ignore_index=0).cuda()\n",
    "optimizer = optim.Adam(model.parameters())\n",
    "\n",
    "fit(model, criterion, optimizer, train_data=(X_train, y_train), epochs_count=20,\n",
    "    batch_size=64, val_data=(X_val, y_val), val_batch_size=512)"
   ]
  },
  {
   "cell_type": "markdown",
   "metadata": {
    "colab_type": "text",
    "id": "2Ne_8f24h8kg"
   },
   "source": [
    "**Задание** Оцените качество модели на тестовой выборке. Обратите внимание, вовсе не обязательно ограничиваться векторами из урезанной матрицы - вполне могут найтись слова в тесте, которых не было в трейне и для которых есть эмбеддинги.\n",
    "\n",
    "Добейтесь качества лучше прошлых моделей."
   ]
  },
  {
   "cell_type": "code",
   "execution_count": 76,
   "metadata": {
    "colab": {},
    "colab_type": "code",
    "id": "HPUuAPGhEGVR"
   },
   "outputs": [
    {
     "name": "stdout",
     "output_type": "stream",
     "text": [
      "Accuracy: 0.0435\n",
      "Loss : 2.57\n"
     ]
    }
   ],
   "source": [
    "model = LSTMTaggerWithPretrainedEmbs(\n",
    "    embeddings=torch.FloatTensor(embeddings),\n",
    "    tagset_size=len(tag2ind)\n",
    ")\n",
    "\n",
    "X_batch, y_batch = torch.LongTensor(X_batch), torch.LongTensor(y_batch)\n",
    "logits = model(X_batch)\n",
    "\n",
    "# <calc accuracy>\n",
    "mask = (y_batch != 0).float()\n",
    "preds = torch.argmax(logits, 2)\n",
    "current_count = ((preds == y_batch).float() * mask).sum()\n",
    "total_count = mask.sum()\n",
    "accuracy = current_count / total_count\n",
    "print('Accuracy: {:.3}'.format(accuracy))\n",
    "\n",
    "#<calc loss>\n",
    "criterion = nn.CrossEntropyLoss(ignore_index=0)\n",
    "loss = criterion(logits.transpose(2, 1), y_batch)\n",
    "print('Loss : {:.3}'.format(loss))"
   ]
  },
  {
   "cell_type": "code",
   "execution_count": 77,
   "metadata": {},
   "outputs": [
    {
     "ename": "TypeError",
     "evalue": "expected TensorOptions(dtype=float, device=cuda, layout=Strided, requires_grad=false (default), pinned_memory=false (default), memory_format=(nullopt)) (got TensorOptions(dtype=float, device=cpu, layout=Strided, requires_grad=false (default), pinned_memory=false (default), memory_format=(nullopt)))",
     "output_type": "error",
     "traceback": [
      "\u001b[1;31m---------------------------------------------------------------------------\u001b[0m",
      "\u001b[1;31mTypeError\u001b[0m                                 Traceback (most recent call last)",
      "Cell \u001b[1;32mIn[77], line 18\u001b[0m\n\u001b[0;32m     16\u001b[0m embeddings \u001b[38;5;241m=\u001b[39m torch\u001b[38;5;241m.\u001b[39mcat(sentence_embs, \u001b[38;5;241m0\u001b[39m)\n\u001b[0;32m     17\u001b[0m model \u001b[38;5;241m=\u001b[39m model\u001b[38;5;241m.\u001b[39mtype(FloatTensor)\n\u001b[1;32m---> 18\u001b[0m logits \u001b[38;5;241m=\u001b[39m model(\u001b[43mFloatTensor\u001b[49m\u001b[43m(\u001b[49m\u001b[43membeddings\u001b[49m\u001b[43m)\u001b[49m)\n\u001b[0;32m     19\u001b[0m preds \u001b[38;5;241m=\u001b[39m torch\u001b[38;5;241m.\u001b[39margmax(logits, \u001b[38;5;241m2\u001b[39m)\n\u001b[0;32m     20\u001b[0m correct \u001b[38;5;241m+\u001b[39m\u001b[38;5;241m=\u001b[39m (preds \u001b[38;5;241m==\u001b[39m LongTensor(sentence_tags))\u001b[38;5;241m.\u001b[39mfloat()\u001b[38;5;241m.\u001b[39msum()\n",
      "\u001b[1;31mTypeError\u001b[0m: expected TensorOptions(dtype=float, device=cuda, layout=Strided, requires_grad=false (default), pinned_memory=false (default), memory_format=(nullopt)) (got TensorOptions(dtype=float, device=cpu, layout=Strided, requires_grad=false (default), pinned_memory=false (default), memory_format=(nullopt)))"
     ]
    }
   ],
   "source": [
    "correct = 0\n",
    "total = 0\n",
    "\n",
    "for sentence in test_data:\n",
    "    sentence_embs = []\n",
    "    sentence_tags = []\n",
    "    \n",
    "    for word, tag in sentence:\n",
    "        try:\n",
    "            word_emb = torch.from_numpy(w2v_model.get_vector(word.lower())).float()\n",
    "        except:\n",
    "            word_emb = torch.zeros(w2v_model.vectors.shape[1]).float()\n",
    "        sentence_embs.append(word_emb)\n",
    "        sentence_tags.append(tag2ind[tag])\n",
    "        \n",
    "    embeddings = torch.cat(sentence_embs, 0)\n",
    "    model = model.type(FloatTensor)\n",
    "    logits = model(FloatTensor(embeddings))\n",
    "    preds = torch.argmax(logits, 2)\n",
    "    correct += (preds == LongTensor(sentence_tags)).float().sum()\n",
    "    total += len(tags)\n",
    "    \n",
    "\n",
    "accuracy = correct / total\n",
    "print('Accuracy: {:.3}'.format(accuracy))"
   ]
  },
  {
   "cell_type": "code",
   "execution_count": null,
   "metadata": {},
   "outputs": [],
   "source": []
  }
 ],
 "metadata": {
  "accelerator": "GPU",
  "colab": {
   "collapsed_sections": [],
   "name": "Week 06 - RNNs, part 2.ipynb",
   "provenance": [],
   "version": "0.3.2"
  },
  "kernelspec": {
   "display_name": "Python 3",
   "language": "python",
   "name": "python3"
  },
  "language_info": {
   "codemirror_mode": {
    "name": "ipython",
    "version": 3
   },
   "file_extension": ".py",
   "mimetype": "text/x-python",
   "name": "python",
   "nbconvert_exporter": "python",
   "pygments_lexer": "ipython3",
   "version": "3.12.4"
  }
 },
 "nbformat": 4,
 "nbformat_minor": 1
}
